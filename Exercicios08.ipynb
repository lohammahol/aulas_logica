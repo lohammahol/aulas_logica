{
 "cells": [
  {
   "cell_type": "markdown",
   "metadata": {},
   "source": [
    "1. Crie uma lista com os números de 1 a 10 e imprima cada número."
   ]
  },
  {
   "cell_type": "code",
   "execution_count": 4,
   "metadata": {},
   "outputs": [
    {
     "name": "stdout",
     "output_type": "stream",
     "text": [
      "1\n",
      "2\n",
      "3\n",
      "4\n",
      "5\n",
      "6\n",
      "7\n",
      "8\n",
      "9\n",
      "10\n"
     ]
    }
   ],
   "source": [
    "numeros = [1, 2, 3, 4, 5, 6, 7, 8, 9, 10]\n",
    "listaDnr = numeros\n",
    "for numeros in listaDnr :\n",
    "    print(numeros)"
   ]
  },
  {
   "cell_type": "markdown",
   "metadata": {},
   "source": [
    "2. Crie uma lista com os nomes de três amigos e imprima cada nome."
   ]
  },
  {
   "cell_type": "code",
   "execution_count": 5,
   "metadata": {},
   "outputs": [
    {
     "name": "stdout",
     "output_type": "stream",
     "text": [
      "Burucutu\n",
      "Julia\n",
      "calister\n"
     ]
    }
   ],
   "source": [
    "listaNomes = [\"Burucutu\", \"Julia\", \"calister\"]\n",
    "for nome in listaNomes :\n",
    "    print(nome)"
   ]
  },
  {
   "cell_type": "markdown",
   "metadata": {},
   "source": [
    "3. Crie uma lista com os meses do ano e imprima apenas os meses que começam com \"J\"."
   ]
  },
  {
   "cell_type": "code",
   "execution_count": 13,
   "metadata": {},
   "outputs": [
    {
     "name": "stdout",
     "output_type": "stream",
     "text": [
      "Janeiro\n",
      "Junho\n",
      "Julho\n"
     ]
    }
   ],
   "source": [
    "listames = [\"Janeiro\", \"Fevereiro\", \"Março\", \"Abril\", \"Maio\", \"Junho\", \"Julho\", \"Agosto\", \"Stembro\", \"Outubro\", \"Novembro\", \"Dezembro\"]\n",
    "for mes in listames :\n",
    "    if mes [0] == \"J\" :\n",
    "     print(mes)"
   ]
  },
  {
   "cell_type": "markdown",
   "metadata": {},
   "source": [
    "4. Crie uma lista com as palavras \"gato\", \"cachorro\", \"pássaro\" e \"peixe\", e imprima cada palavra\n",
    "em maiúsculas."
   ]
  },
  {
   "cell_type": "code",
   "execution_count": 21,
   "metadata": {},
   "outputs": [
    {
     "name": "stdout",
     "output_type": "stream",
     "text": [
      "GATO\n",
      "CACHORRO\n",
      "PÁSSARO\n",
      "PEIXE\n"
     ]
    }
   ],
   "source": [
    "listaanimal = [\"Gato\", \"Cachorro\", \"Pássaro\", \"Peixe\"]\n",
    "for animal in listaanimal :\n",
    "    print(animal.upper())"
   ]
  },
  {
   "cell_type": "markdown",
   "metadata": {},
   "source": [
    "5. Crie uma lista com 5 números aleatórios e exiba o nr e seu dobro desse."
   ]
  },
  {
   "cell_type": "code",
   "execution_count": 28,
   "metadata": {},
   "outputs": [
    {
     "name": "stdout",
     "output_type": "stream",
     "text": [
      "O número é 37 e seu dobro é 74\n",
      "O número é 34 e seu dobro é 68\n",
      "O número é 68 e seu dobro é 136\n",
      "O número é 70 e seu dobro é 140\n",
      "O número é 18 e seu dobro é 36\n"
     ]
    }
   ],
   "source": [
    "import random \n",
    "for x in range (5) :\n",
    "    nrSorteado = random.randint(1, 100)\n",
    "    print(f\"O número é {nrSorteado} e seu dobro é {nrSorteado * 2}\")"
   ]
  },
  {
   "cell_type": "markdown",
   "metadata": {},
   "source": [
    "6. Crie uma lista com valores numéricos e encontre o maior e o menor elemento dessa lista."
   ]
  },
  {
   "cell_type": "code",
   "execution_count": null,
   "metadata": {},
   "outputs": [],
   "source": [
    "listaNrs = [10, 2, 43, 54, 25]\n",
    "menorNr = 100000000\n",
    "maiorNr = 0\n",
    "for nrAtual in listaNrs :\n",
    "    if nrAtual > maiorNr :\n",
    "        maiorNr = nrAtual \n",
    "    if nrAtual < menorNr :\n",
    "        menorNr = nrAtual\n",
    "\n",
    "print(menorNr, maiorNr)\n",
    "\n",
    "\n",
    "#Utilizando as funções prontas do python\n",
    "print(max(listaNrs))\n",
    "print(min(listaNrs))\n",
    "\n",
    "\n",
    "\n",
    "\n",
    "\n"
   ]
  },
  {
   "cell_type": "markdown",
   "metadata": {},
   "source": [
    "7. Receba uma palavra do usuário e calcule quantas vogais há nesta palavra."
   ]
  },
  {
   "cell_type": "code",
   "execution_count": 34,
   "metadata": {},
   "outputs": [
    {
     "name": "stdout",
     "output_type": "stream",
     "text": [
      "A palavra andradina tem 4 vogais\n"
     ]
    }
   ],
   "source": [
    "palavra = input(\"Digite uma palavra \")\n",
    "vogais = [\"a\", \"e\", \"i\", \"o\",\"u\"]\n",
    "qtdeVogais = 0\n",
    "for letra in palavra :\n",
    "    if letra.lower() in vogais :\n",
    "        qtdeVogais = qtdeVogais + 1\n",
    "print(f\"A palavra {palavra} tem {qtdeVogais} vogais\")\n"
   ]
  },
  {
   "cell_type": "markdown",
   "metadata": {},
   "source": [
    "8. Nessa string ‘Gol;Corsa;Palio;Monza;Fusca;’, faça a separação desses itens para uma lista e\n",
    "exiba o item e a posição que ele está"
   ]
  },
  {
   "cell_type": "code",
   "execution_count": 29,
   "metadata": {},
   "outputs": [
    {
     "name": "stdout",
     "output_type": "stream",
     "text": [
      "1º Gol\n",
      "2º Corsa\n",
      "3º Palio\n",
      "4º Monsa\n",
      "5º fusca\n"
     ]
    }
   ],
   "source": [
    "listacarros = []\n",
    "while True :\n",
    "    carro = input(\"Digite o carro que mais gosto :\")\n",
    "    listacarros.append(carro)\n",
    "    resp = input(\"Deseja continuar? [S/N]\")\n",
    "    if resp in \"Nn\" :\n",
    "        break \n",
    "for pos, carro in enumerate(listacarros) :\n",
    "    print(f\"{pos+1}º {carro}\")\n",
    " "
   ]
  }
 ],
 "metadata": {
  "kernelspec": {
   "display_name": "Python 3",
   "language": "python",
   "name": "python3"
  },
  "language_info": {
   "codemirror_mode": {
    "name": "ipython",
    "version": 3
   },
   "file_extension": ".py",
   "mimetype": "text/x-python",
   "name": "python",
   "nbconvert_exporter": "python",
   "pygments_lexer": "ipython3",
   "version": "undefined.undefined.undefined"
  }
 },
 "nbformat": 4,
 "nbformat_minor": 2
}
