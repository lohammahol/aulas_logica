{
 "cells": [
  {
   "cell_type": "markdown",
   "metadata": {},
   "source": [
    "1. Utilizando o comando while, exiba todos os números pares, de 1 a 20"
   ]
  },
  {
   "cell_type": "code",
   "execution_count": 4,
   "metadata": {},
   "outputs": [
    {
     "name": "stdout",
     "output_type": "stream",
     "text": [
      "O numero 2 é par\n",
      "O numero 4 é par\n",
      "O numero 6 é par\n",
      "O numero 8 é par\n",
      "O numero 10 é par\n",
      "O numero 12 é par\n",
      "O numero 14 é par\n",
      "O numero 16 é par\n",
      "O numero 18 é par\n",
      "O numero 20 é par\n"
     ]
    }
   ],
   "source": [
    "x = 1 \n",
    "while x <= 20 :\n",
    "    if x % 2 == 0 :\n",
    "        print(f\"O numero {x} é par\")\n",
    "    x = x + 1 "
   ]
  },
  {
   "cell_type": "markdown",
   "metadata": {},
   "source": [
    "2. Gere os 6 números do sorteio da mega - sena de forma aleatória "
   ]
  },
  {
   "cell_type": "code",
   "execution_count": 5,
   "metadata": {},
   "outputs": [
    {
     "name": "stdout",
     "output_type": "stream",
     "text": [
      "os numeros sorteados foram? 56\n",
      "os numeros sorteados foram? 20\n",
      "os numeros sorteados foram? 51\n",
      "os numeros sorteados foram? 54\n",
      "os numeros sorteados foram? 46\n",
      "os numeros sorteados foram? 47\n"
     ]
    }
   ],
   "source": [
    "import random \n",
    "x = 1\n",
    "while x <= 6 :\n",
    "    nrSorteado = random.randint (1, 60)\n",
    "    print (f\"os numeros sorteados foram? {nrSorteado}\")\n",
    "    x = x + 1"
   ]
  },
  {
   "cell_type": "markdown",
   "metadata": {},
   "source": [
    "3. Receba alguns número e verifique a soma e a quantidade de todos os pares e ímpares\n",
    "digitados, digite 0 para não receber mais "
   ]
  },
  {
   "cell_type": "code",
   "execution_count": 9,
   "metadata": {},
   "outputs": [
    {
     "name": "stdout",
     "output_type": "stream",
     "text": [
      "A soma 20 sao 1 pares e 0 impares\n"
     ]
    }
   ],
   "source": [
    "soma = 0\n",
    "qtdepar = 0 \n",
    "qtdeimpar = 0 \n",
    "\n",
    "while True :\n",
    "    nr = int(input(\"Digite o valor. [0 para encerrar]\"))\n",
    "    if nr == 0 :\n",
    "        break \n",
    "    if nr % 2 == 0 :\n",
    "        qtdepar += 1 #qtdepar = qtdepar + 1\n",
    "    if nr % 2 == 1 :\n",
    "        qtdeimpar += 1 #qtdeimpar = qtdeimpar + 1 \n",
    "    soma += nr \n",
    "  \n",
    "print( f\"A soma {soma} sao {qtdepar} pares e {qtdeimpar} impares\")"
   ]
  },
  {
   "cell_type": "markdown",
   "metadata": {},
   "source": [
    "4. Faça um programa em Python que leia 5 valores inteiros e:\n",
    "• Encontre e mostre o maior valor\n",
    "• Encontre e mostre o menor valor\n",
    "• Calcule e mostre a média dos números lidos"
   ]
  },
  {
   "cell_type": "code",
   "execution_count": null,
   "metadata": {},
   "outputs": [],
   "source": []
  }
 ],
 "metadata": {
  "kernelspec": {
   "display_name": "Python 3",
   "language": "python",
   "name": "python3"
  },
  "language_info": {
   "codemirror_mode": {
    "name": "ipython",
    "version": 3
   },
   "file_extension": ".py",
   "mimetype": "text/x-python",
   "name": "python",
   "nbconvert_exporter": "python",
   "pygments_lexer": "ipython3",
   "version": "3.12.2"
  }
 },
 "nbformat": 4,
 "nbformat_minor": 2
}
