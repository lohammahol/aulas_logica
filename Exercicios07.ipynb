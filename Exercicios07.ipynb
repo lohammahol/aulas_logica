{
 "cells": [
  {
   "cell_type": "markdown",
   "metadata": {},
   "source": [
    "1.Crie uma lista de filmes com 7 filmes a sua escolha, e faça as seguintes operações com ela \n",
    "• Exiba apenas o primeiro o filme da lista\n",
    "• Exiba o filme da posição 4\n",
    "• Substitua o filme da última posição e exiba a lista\n",
    "• Insira um novo filme no final da lista e exiba a lista\n",
    "• Insira um novo filme na posição 5 e exiba a lista\n",
    "• Exclua o primeiro filme e exiba a lista\n",
    "• Exclua o último filme e exiba a lista\n",
    "• Exiba os 3 primeiros filmes da lista\n",
    "• Exiba os 4 últimos filmes da lista\n",
    "• Exiba a quantidade de filmes atualmente na lista"
   ]
  },
  {
   "cell_type": "code",
   "execution_count": null,
   "metadata": {},
   "outputs": [],
   "source": [
    "filmes = [\"sherk\", \"velozes e furiosos\", \"panico\", \"vingadores\", \"creed\", \"jonh wick\", \"megatubarao\"]\n",
    "#Exiba apenas o primeiro filme da lista\n",
    "print(filmes[0]) \n",
    "\n",
    "#Exiba o filme da 4 posiçao \n",
    "print(filmes[3])\n",
    "\n",
    "#Substitua o filme da ultima posiçao e exiba a lista \n",
    "filmes[6] = \"sherk\"\n",
    "print(filmes)\n",
    "\n",
    "#insira um novo filme no final da lista e exiba a lista \n",
    "filmes.append(6, \"barbie\")\n",
    "print(filmes)\n",
    "\n",
    "#insira um novo filme na posiçao 5 e exiba a lista \n",
    "filmes.insert(4, \"predador\")\n",
    "\n",
    "#Exclua o primeiro filme e exiba a lista \n",
    "filmes.remove(\"sherk\")\n",
    "print(filmes)\n",
    "\n",
    "#Exclua o último filme e exiba a lista\n",
    "filmes.pop(\"megatubarao\")\n",
    "print(filmes)\n",
    "\n",
    "#Exiba os 3 primeiros filmes da lista \n",
    "print(filmes[0:2])\n",
    "\n",
    "#Exiba os 4 primeiros filmes da lista \n",
    "print(filmes[0:3])\n",
    "\n",
    "#Exiba a quantidade de filmes atualmente na lista \n",
    "print(filmes[0:4])\n",
    "\n",
    "#Ordene os filmes em ordem decrescente e exiba-os\n",
    "filmes.reverse()\n",
    "print(filmes)\n"
   ]
  },
  {
   "cell_type": "markdown",
   "metadata": {},
   "source": [
    "2. Crie uma lista com os 20 times do campeonato brasileiro de futebol\n",
    "• Exiba o primeiro time da lista como campeão\n",
    "• Exiba os 4 primeiros times como que irão jogar a libertadores\n",
    "• Exiba os 4 últimos times como os que estão rebaixados para a série B"
   ]
  },
  {
   "cell_type": "code",
   "execution_count": null,
   "metadata": {},
   "outputs": [],
   "source": [
    "times = [\"palmeiras\", \"atletico\", \"flamengo\", \"gremio\", \"botafogo\", \"Red Bull Bragantino\", \"fluminense\", \"athetico\", \"internacional\", \"fortaleza\", \"sao paulo\", \"cuiaba\", \"corinthians\", \"cruzeiro\", \"vasco\", \"bahia\", \"vitoria\", \"juventude\", \"Criciúma\", \"atletico\"]\n",
    "#Exiba o primeiro time da lista como campeao\n",
    "print(times[0]) - corinthians \n",
    "\n",
    "#Exiba os 4 primeiros times como que irao jogar a libertadores \n",
    "print(times[0:5])\n",
    "\n",
    "#Exiba os 4 ultimos times como os que estao rebaixados para a serie B\n",
    "print(times[0:16])\n",
    "\n"
   ]
  }
 ],
 "metadata": {
  "kernelspec": {
   "display_name": "Python 3",
   "language": "python",
   "name": "python3"
  },
  "language_info": {
   "codemirror_mode": {
    "name": "ipython",
    "version": 3
   },
   "file_extension": ".py",
   "mimetype": "text/x-python",
   "name": "python",
   "nbconvert_exporter": "python",
   "pygments_lexer": "ipython3",
   "version": "3.12.2"
  }
 },
 "nbformat": 4,
 "nbformat_minor": 2
}
