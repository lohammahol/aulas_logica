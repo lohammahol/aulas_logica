{
 "cells": [
  {
   "cell_type": "code",
   "execution_count": 10,
   "metadata": {},
   "outputs": [
    {
     "name": "stdout",
     "output_type": "stream",
     "text": [
      "ja e pai\n"
     ]
    }
   ],
   "source": [
    "#0\n",
    "frase = (input(\"qual sua frase\"))\n",
    "print(f\"{frase}\")\n"
   ]
  },
  {
   "cell_type": "markdown",
   "metadata": {},
   "source": [
    "01 - Crie um programa que leia dois números e mostre a soma entre eles."
   ]
  },
  {
   "cell_type": "code",
   "execution_count": 1,
   "metadata": {},
   "outputs": [
    {
     "name": "stdout",
     "output_type": "stream",
     "text": [
      "7\n"
     ]
    }
   ],
   "source": [
    "#1\n",
    "n1 = 5\n",
    "n2 = 2\n",
    "soma = n1 + n2 \n",
    "print(soma)"
   ]
  },
  {
   "cell_type": "markdown",
   "metadata": {},
   "source": [
    "02 - Crie um programa que leia um número inteiro e mostre na tela o seu sucessor e antecessor."
   ]
  },
  {
   "cell_type": "code",
   "execution_count": 5,
   "metadata": {},
   "outputs": [
    {
     "name": "stdout",
     "output_type": "stream",
     "text": [
      "11 e seu antecessor e 13 é seu sucessor\n"
     ]
    }
   ],
   "source": [
    "#2\n",
    "numero = int(input(\"qual é o valor\"))\n",
    "ant = numero - 1\n",
    "sucessor = numero + 1 \n",
    "print(f\"{ant} e seu antecessor e {sucessor} é seu sucessor\")"
   ]
  },
  {
   "cell_type": "markdown",
   "metadata": {},
   "source": [
    "03 - Crie um programa que leia um número e mostre o seu dobro, triplo e raiz quadrada "
   ]
  },
  {
   "cell_type": "code",
   "execution_count": 2,
   "metadata": {},
   "outputs": [
    {
     "name": "stdout",
     "output_type": "stream",
     "text": [
      "4.0\n"
     ]
    }
   ],
   "source": [
    "#3\n",
    "valor = float(input('digite o valor'))\n",
    "desconto = valor * 5 / 100 \n",
    "valor = valor - desconto \n",
    "print(valor)\n"
   ]
  },
  {
   "cell_type": "code",
   "execution_count": 8,
   "metadata": {},
   "outputs": [
    {
     "name": "stdout",
     "output_type": "stream",
     "text": [
      "32 é o seu dobro, 48 é o seu triplo e 4.0 é sua raiz\n"
     ]
    }
   ],
   "source": [
    "#3\n",
    "numero = int(input(\"qual valor\"))\n",
    "dobro = numero * 2 \n",
    "triplo = numero * 3\n",
    "raiz = numero ** 0.5\n",
    "print(f\"{dobro} é o seu dobro, {triplo} é o seu triplo e {raiz} é sua raiz\")"
   ]
  },
  {
   "cell_type": "code",
   "execution_count": 4,
   "metadata": {},
   "outputs": [
    {
     "name": "stdout",
     "output_type": "stream",
     "text": [
      "8.5\n"
     ]
    }
   ],
   "source": [
    "#4\n",
    "n1 = 7 \n",
    "n2 = 10\n",
    "media = (n1 + n2) / 2\n",
    "print(media)"
   ]
  },
  {
   "cell_type": "markdown",
   "metadata": {},
   "source": [
    "05 - Crie um programa que leia o valor em metros e o exiba convertido em centimetros e milimetros "
   ]
  },
  {
   "cell_type": "code",
   "execution_count": null,
   "metadata": {},
   "outputs": [],
   "source": [
    "#5\n",
    "metro = float(input(\"insira uma medida em metros\"))\n",
    "mm = metro * 1000\n",
    "cm = metro * 100 \n",
    "print (f\"{metro}m é igual a {cm}cm e {mm}mm\")"
   ]
  },
  {
   "cell_type": "markdown",
   "metadata": {},
   "source": [
    "06 - Crie um programa que leia qualquer e mostre na tela sua tabuada"
   ]
  },
  {
   "cell_type": "code",
   "execution_count": 15,
   "metadata": {},
   "outputs": [
    {
     "name": "stdout",
     "output_type": "stream",
     "text": [
      "tabuada do 7\n",
      "7 x 1 = 7\n",
      "7 x 2 = 14\n",
      "7 x 3 = 21\n",
      "7 x 4 = 28\n",
      "7 x 5 = 35\n",
      "7 x 6 = 42\n",
      "7 x 7 = 49\n",
      "7 x 8 = 56\n",
      "7 x 9 = 63\n",
      "7 x 10 = 70\n"
     ]
    }
   ],
   "source": [
    "#6\n",
    "nr = int(input(\"qual numero\"))\n",
    "print(f\"tabuada do {nr}\")\n",
    "v1 = nr * 1\n",
    "v2 = nr * 2\n",
    "v3 = nr * 3\n",
    "v4 = nr * 4\n",
    "v5 = nr * 5\n",
    "v6 = nr * 6\n",
    "v7 = nr * 7\n",
    "v8 = nr * 8\n",
    "v9 = nr * 9\n",
    "v10 = nr * 10\n",
    "print(f\"{nr} x 1 = {v1}\")\n",
    "print(f\"{nr} x 2 = {v2}\")\n",
    "print(f\"{nr} x 3 = {v3}\")\n",
    "print(f\"{nr} x 4 = {v4}\")\n",
    "print(f\"{nr} x 5 = {v5}\")\n",
    "print(f\"{nr} x 6 = {v6}\")\n",
    "print(f\"{nr} x 7 = {v7}\")\n",
    "print(f\"{nr} x 8 = {v8}\")\n",
    "print(f\"{nr} x 9 = {v9}\")\n",
    "print(f\"{nr} x 10 = {v10}\")\n"
   ]
  },
  {
   "cell_type": "markdown",
   "metadata": {},
   "source": [
    "07 - Crie um programa que leia quanto dinheiro a pessoa tem na carteira e mostre quantos dólares ele pode contar."
   ]
  },
  {
   "cell_type": "code",
   "execution_count": 16,
   "metadata": {},
   "outputs": [
    {
     "name": "stdout",
     "output_type": "stream",
     "text": [
      "5 reais em dolar é igual a 25\n"
     ]
    }
   ],
   "source": [
    "#7\n",
    "numero = int(input(\"quantos reais\"))\n",
    "d_p_r = numero * 5 \n",
    "print(f\"{numero} reais em dolar é igual a {d_p_r}\")"
   ]
  },
  {
   "cell_type": "markdown",
   "metadata": {},
   "source": [
    "08 - Crie um programa que leia a largura e a altura de uma parede em metros, calcule a sua área e a quantidade de tinta necessária para pintá-lo, sabendo que cada litro de tinta pinta uma área de 2m2."
   ]
  },
  {
   "cell_type": "code",
   "execution_count": 1,
   "metadata": {},
   "outputs": [
    {
     "name": "stdout",
     "output_type": "stream",
     "text": [
      "para pintar uma area de 56.0m² , precisa de 28.0l\n"
     ]
    }
   ],
   "source": [
    "#8\n",
    "altura = float(input(\"digite a altura\"))\n",
    "largura = float(input(\"digite a largura \"))\n",
    "area = altura * largura \n",
    "litros = area / 2 \n",
    "print(f\"para pintar uma area de {area}m² , precisa de {litros}l\")\n"
   ]
  },
  {
   "cell_type": "markdown",
   "metadata": {},
   "source": [
    "09 - Faça um algoritmo que leia o preço do produto e mostre seu novo preço com 5% de desconto"
   ]
  },
  {
   "cell_type": "markdown",
   "metadata": {},
   "source": [
    "10 - Faça um algoritmo que leia o sálario do funcionario e mostre seu novo sálario com 15% de aumento."
   ]
  },
  {
   "cell_type": "code",
   "execution_count": null,
   "metadata": {},
   "outputs": [],
   "source": [
    "#10\n",
    "salario = float(input(\"digite o salario\"))\n",
    "aumento = (salario / 100) * 15\n",
    "salario = salario + aumento \n",
    "print(salario)"
   ]
  },
  {
   "cell_type": "markdown",
   "metadata": {},
   "source": [
    "11 - Faça um algoritmo que receba um valor em graus celsius e converta para farenheit"
   ]
  },
  {
   "cell_type": "code",
   "execution_count": null,
   "metadata": {},
   "outputs": [],
   "source": [
    "#11\n",
    "graus = float(input(\"digite a temperatura em °C\"))\n",
    "valor = graus * 1.8 + 32 \n",
    "print(f\"{graus}ºC é igual a {valor}ºF\")"
   ]
  },
  {
   "cell_type": "markdown",
   "metadata": {},
   "source": [
    "12 - Faça um algaritmo que pergunte a quantidade de km percorridos por um carro alugado e a quantidade de dias pelos quais ele foi alugado. Calcule o preço a pagar, sabendo que o carro custa R$60 por dia e R$0.15 por km rodado."
   ]
  },
  {
   "cell_type": "code",
   "execution_count": 3,
   "metadata": {},
   "outputs": [
    {
     "ename": "SyntaxError",
     "evalue": "invalid syntax. Perhaps you forgot a comma? (3997321150.py, line 4)",
     "output_type": "error",
     "traceback": [
      "\u001b[1;36m  Cell \u001b[1;32mIn[3], line 4\u001b[1;36m\u001b[0m\n\u001b[1;33m    pagar = (60 * dias) + (o.15 * km_percorrido)\u001b[0m\n\u001b[1;37m                           ^\u001b[0m\n\u001b[1;31mSyntaxError\u001b[0m\u001b[1;31m:\u001b[0m invalid syntax. Perhaps you forgot a comma?\n"
     ]
    }
   ],
   "source": [
    "#12\n",
    "km_percorrido = float(input(\"digite o km percorrido:\"))\n",
    "dias = int(input(\"digite a quantidade de dias:\"))\n",
    "pagar = (60 * dias) + (o.15 * km_percorrido)\n",
    "print (f\"o valor total sera de R$ {pagar: 2f}\")\n"
   ]
  },
  {
   "cell_type": "code",
   "execution_count": null,
   "metadata": {},
   "outputs": [],
   "source": []
  }
 ],
 "metadata": {
  "kernelspec": {
   "display_name": "Python 3",
   "language": "python",
   "name": "python3"
  },
  "language_info": {
   "codemirror_mode": {
    "name": "ipython",
    "version": 3
   },
   "file_extension": ".py",
   "mimetype": "text/x-python",
   "name": "python",
   "nbconvert_exporter": "python",
   "pygments_lexer": "ipython3",
   "version": "3.12.2"
  }
 },
 "nbformat": 4,
 "nbformat_minor": 2
}
