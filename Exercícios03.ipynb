{
 "cells": [
  {
   "cell_type": "markdown",
   "metadata": {},
   "source": [
    "#1. Pede ao usuário para digitar um número de 1 a 7 e imprime o dia da semana correspondente."
   ]
  },
  {
   "cell_type": "code",
   "execution_count": 8,
   "metadata": {},
   "outputs": [
    {
     "name": "stdout",
     "output_type": "stream",
     "text": [
      "sexta - feira\n"
     ]
    }
   ],
   "source": [
    "n1 = int(input(\"digite o numero de 1 a 7\"))\n",
    "match n1 : \n",
    "    case 1  :\n",
    "        print (\"segunda - feira\") \n",
    "    case 2 :\n",
    "        print (\"terça -  feira\")\n",
    "    case 3 :\n",
    "        print ('quarta - feira')\n",
    "    case 4 :\n",
    "        print (\"quinta - feira\")\n",
    "    case 5 :\n",
    "        print (\"sexta - feira\")\n",
    "    case 6 :\n",
    "        print (\"domingo\")\n",
    "    case _ : \n",
    "        print(\"imprimir o dia da semana correspondente \")\n"
   ]
  },
  {
   "cell_type": "markdown",
   "metadata": {},
   "source": [
    "#2. Pede ao usuário o ano atual e o ano de nascimento e verifique em qual faixa etária ele\n",
    "pertence considerando (abaixo de 10 é criança, de 11 a 17 adolescente, de 18 a 59 adulto,\n",
    "acima de 60 idoso)"
   ]
  },
  {
   "cell_type": "code",
   "execution_count": 9,
   "metadata": {},
   "outputs": [
    {
     "name": "stdout",
     "output_type": "stream",
     "text": [
      "adulto\n"
     ]
    }
   ],
   "source": [
    "ano_atual = int(input(\"digite o ano atual\"))\n",
    "ano_nascimento = int(input(\"digite o ano que nasceu\"))\n",
    "idade = ano_atual - ano_nascimento \n",
    "if idade < 10 :\n",
    "    print(\"criança\")\n",
    "elif idade >= 11 and idade < 17 :\n",
    "    print(\"adolecente\")\n",
    "elif idade >= 18 and idade < 59 :\n",
    "    print(\"adulto\")\n",
    "elif idade >= 60 : \n",
    "    print(\"idoso\")\n",
    "else  : \n",
    "    print(\"imprimir a qual faixa etaria pertence\")"
   ]
  },
  {
   "cell_type": "markdown",
   "metadata": {},
   "source": [
    "#3. Pede ao usuário para digitar o nome de um mês e imprime o número de dias naquele mês."
   ]
  },
  {
   "cell_type": "code",
   "execution_count": 11,
   "metadata": {},
   "outputs": [
    {
     "name": "stdout",
     "output_type": "stream",
     "text": [
      "30\n"
     ]
    }
   ],
   "source": [
    "mes = input(\"digite o nome do mês e imprime o numero de dias\")\n",
    "match mes :\n",
    "    case 'Janeiro' :\n",
    "        print(31)\n",
    "    case 'fevereiro' :\n",
    "        print (28)\n",
    "    case 'março' :\n",
    "        print (31)\n",
    "    case 'abril' :\n",
    "        print (30)\n",
    "    case 'maio' :\n",
    "        print(31)\n",
    "    case 'junho' :\n",
    "        print(30)\n",
    "    case 'julho' :\n",
    "        print(31)\n",
    "    case 'agosto' :\n",
    "        print(31)\n",
    "    case 'setembro':\n",
    "        print(30)\n",
    "    case 'outubro':\n",
    "        print(31)\n",
    "    case 'novembro':\n",
    "        print(30)\n",
    "    case 'dezembro':\n",
    "        print(31)\n",
    "    case _ :\n",
    "        print(\"imprimir o numero de dias naquele mes\")      "
   ]
  },
  {
   "cell_type": "markdown",
   "metadata": {},
   "source": [
    "#4. Pede ao usuário para digitar 2 notas e calcule sua média, e considere a média acima de 7\n",
    "aprovado, entre 5 e 7, em recuperação, abaixo de 5 reprovado."
   ]
  },
  {
   "cell_type": "code",
   "execution_count": 18,
   "metadata": {},
   "outputs": [
    {
     "name": "stdout",
     "output_type": "stream",
     "text": [
      "recuperação\n"
     ]
    }
   ],
   "source": [
    "n1 = int(input(\"digite a nota 1\"))\n",
    "n2 = int(input(\"digite a nota 2\"))\n",
    "nota = (n1 + n2) / 2 \n",
    "if nota >= 7 :\n",
    "    print(\"aprovado\")\n",
    "elif nota >= 5 and nota <= 7 :\n",
    "    print(\"recuperação\")\n",
    "else :\n",
    "    print (\"reprovado\")"
   ]
  },
  {
   "cell_type": "markdown",
   "metadata": {},
   "source": [
    "#5. Pede o salário do funcionario, calcular o aumento que ele terá, considerando se ganhar 2000, reajuste de 12%, até 4000, reajuste de 10% , acima de 4000 reajuste de 8%, exibir o novo salário."
   ]
  },
  {
   "cell_type": "code",
   "execution_count": 20,
   "metadata": {},
   "outputs": [
    {
     "name": "stdout",
     "output_type": "stream",
     "text": [
      "seu novo salario é de 2240.0\n"
     ]
    }
   ],
   "source": [
    "salario = float(input(\"digite o salário\"))\n",
    "if salario <= 2000 :\n",
    "    aumento = salario * 0.12\n",
    "elif salario <= 4000 :\n",
    "   aumento = salario * 0.10\n",
    "else :\n",
    "   aumento = salario * 0.08\n",
    "print (f\"seu novo salario é de {salario + aumento}\")"
   ]
  },
  {
   "cell_type": "markdown",
   "metadata": {},
   "source": [
    "DESAFIO. Peça o salario do funcionario e calcule o valor do IRRF e INSS do funcionario e quanto ele ira receber no final do ms, considerando a seguinte tabela:"
   ]
  },
  {
   "cell_type": "code",
   "execution_count": null,
   "metadata": {},
   "outputs": [],
   "source": [
    "salario = float(input(\"digite o salario\"))\n",
    "if salario <= 2259 :\n",
    "    desconto_irpf = 0 \n",
    "elif salario <= 2826.65 :\n",
    "    desconto_irpf = salario * 0.075\n",
    "elif salario <= 3751.05 :\n",
    "    desconto_irpf = salario * 0.15\n",
    "elif salario <= 4664.68 :\n",
    "    desconto_irpf = salario * 0.225\n",
    "else :\n",
    "    desconto_irpf = salario * 0.275\n",
    "\n",
    " #Considerando a tabela de INSS\n",
    "if salario <= 1412 :\n",
    "    desconto_inss = salario * 0.075\n",
    "elif salario  <= 2666.68 :\n",
    "    desconto_inss = salario * 0.09\n",
    "elif salario <= 4000.03\n",
    "    desconto_inss = salario * 0.12\n",
    "elif salario <= 7786.02 :\n",
    "     desconto_inss = salario * 0.14\n",
    "else :\n",
    "    desconto_inss = 908.85\n",
    "\n",
    "salario_liquido = salario - desconto_irpf - desconto_inss\n",
    "print (f'seu salario liquido será: R$ {salario_liquido:.2f}')"
   ]
  }
 ],
 "metadata": {
  "kernelspec": {
   "display_name": "Python 3",
   "language": "python",
   "name": "python3"
  },
  "language_info": {
   "codemirror_mode": {
    "name": "ipython",
    "version": 3
   },
   "file_extension": ".py",
   "mimetype": "text/x-python",
   "name": "python",
   "nbconvert_exporter": "python",
   "pygments_lexer": "ipython3",
   "version": "3.12.2"
  }
 },
 "nbformat": 4,
 "nbformat_minor": 2
}
