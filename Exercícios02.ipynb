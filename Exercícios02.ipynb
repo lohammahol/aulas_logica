{
 "cells": [
  {
   "cell_type": "markdown",
   "metadata": {},
   "source": [
    "1 - Leia 2 notas de um aluno, calcule a média e imprima aprovado ou reprovado (para ser\n",
    "aprovado a média deve ser no mínimo 7)"
   ]
  },
  {
   "cell_type": "code",
   "execution_count": null,
   "metadata": {},
   "outputs": [],
   "source": [
    "nota1 = float(input(\"digite a nota 1\"))\n",
    "nota2 = float(input(\"digite a nota 2\"))\n",
    "media = (nota1 + nota2) / 2\n",
    "if media >= 7 : \n",
    "    print(\"aprovado\")\n",
    "else: \n",
    "    print(\"reprovado\")\n",
    "    "
   ]
  },
  {
   "cell_type": "markdown",
   "metadata": {},
   "source": [
    "2 -Peça dois números ao usuário e mostre qual o maior e qual o menor"
   ]
  },
  {
   "cell_type": "code",
   "execution_count": 3,
   "metadata": {},
   "outputs": [
    {
     "name": "stdout",
     "output_type": "stream",
     "text": [
      "numero1 menor que numero2\n"
     ]
    }
   ],
   "source": [
    "numero1 = int(input(\"digite o primeiro numero:\"))\n",
    "numero2 = int(input (\"digite o segundo numero\"))\n",
    "if numero1 > numero2 :\n",
    "    print(\"numero1 maior que numero2\")\n",
    "else :\n",
    "    print(\"numero1 menor que numero2\")"
   ]
  },
  {
   "cell_type": "markdown",
   "metadata": {},
   "source": [
    "3 - Receba um inteiro e diga se é par ou ímpar."
   ]
  },
  {
   "cell_type": "code",
   "execution_count": null,
   "metadata": {},
   "outputs": [],
   "source": [
    "nr = int(input(\"digite um nr:\"))\n",
    "if nr % 2 == 0 :\n",
    "    print (\"o nr é par\")\n",
    "else :\n",
    "    print(\"o nr é impar\")"
   ]
  },
  {
   "cell_type": "markdown",
   "metadata": {},
   "source": [
    "4 - Receba um número inteiro e diga se é positivo ou negativo"
   ]
  },
  {
   "cell_type": "code",
   "execution_count": 5,
   "metadata": {},
   "outputs": [
    {
     "name": "stdout",
     "output_type": "stream",
     "text": [
      "positivo\n"
     ]
    }
   ],
   "source": [
    "numero1 = float(input(\"qual seu numero\"))\n",
    "if numero1 > 0:\n",
    "    print(\"positivo\")\n",
    "else:\n",
    "    print(\"negativo\")"
   ]
  },
  {
   "cell_type": "markdown",
   "metadata": {},
   "source": [
    "5 - Pergunte o ano de nascimento de uma pessoa e diga se ele é maior de idade"
   ]
  },
  {
   "cell_type": "code",
   "execution_count": null,
   "metadata": {},
   "outputs": [],
   "source": [
    "ano = int(input(\"ano de nascimento\"))\n",
    "idade = 2024 - ano\n",
    "if idade >= 18:\n",
    "    print (\"maior de idade\")\n",
    "else:\n",
    "    print(\"menor\")\n"
   ]
  },
  {
   "cell_type": "markdown",
   "metadata": {},
   "source": [
    "6 - Ler dois números inteiros e informar se estes são iguais ou diferentes"
   ]
  },
  {
   "cell_type": "code",
   "execution_count": null,
   "metadata": {},
   "outputs": [],
   "source": [
    "n1 = int(inpu(\"digite o n1\"))\n",
    "n2 = int(input(\"digite o n2\"))\n",
    "if n1 == n2 :\n",
    "    print(\"estes nrs sao iguais\")\n",
    "else:\n",
    "    print(\"estes nrs sao diferentes\")"
   ]
  },
  {
   "cell_type": "markdown",
   "metadata": {},
   "source": [
    "7 - Receba a velocidade do carro e exiba que foi multado se for maior que 80 km/h, o valor da multa sera 7 reais por cada km excedido, exibir o valor da multa."
   ]
  },
  {
   "cell_type": "code",
   "execution_count": 2,
   "metadata": {},
   "outputs": [
    {
     "ename": "NameError",
     "evalue": "name 'inpt' is not defined",
     "output_type": "error",
     "traceback": [
      "\u001b[1;31m---------------------------------------------------------------------------\u001b[0m",
      "\u001b[1;31mNameError\u001b[0m                                 Traceback (most recent call last)",
      "Cell \u001b[1;32mIn[2], line 1\u001b[0m\n\u001b[1;32m----> 1\u001b[0m velocidade \u001b[38;5;241m=\u001b[39m \u001b[38;5;28mfloat\u001b[39m(\u001b[43minpt\u001b[49m(\u001b[38;5;124m\"\u001b[39m\u001b[38;5;124mdigite a velocidade do carro:\u001b[39m\u001b[38;5;124m\"\u001b[39m))\n\u001b[0;32m      2\u001b[0m \u001b[38;5;28;01mif\u001b[39;00m velocidade \u001b[38;5;241m>\u001b[39m \u001b[38;5;241m80\u001b[39m:\n\u001b[0;32m      3\u001b[0m    valor \u001b[38;5;241m=\u001b[39m ( velocidade \u001b[38;5;241m-\u001b[39m \u001b[38;5;241m80\u001b[39m) \u001b[38;5;241m*\u001b[39m \u001b[38;5;241m7\u001b[39m\n",
      "\u001b[1;31mNameError\u001b[0m: name 'inpt' is not defined"
     ]
    }
   ],
   "source": [
    "velocidade = float(inpt(\"digite a velocidade do carro:\"))\n",
    "if velocidade > 80:\n",
    "   valor = ( velocidade - 80) * 7\n",
    "   print(f\" a multa foi de {valor}\")\n",
    "else:\n",
    "   print(\"voce nao foi multado\")"
   ]
  },
  {
   "cell_type": "markdown",
   "metadata": {},
   "source": []
  }
 ],
 "metadata": {
  "kernelspec": {
   "display_name": "Python 3",
   "language": "python",
   "name": "python3"
  },
  "language_info": {
   "codemirror_mode": {
    "name": "ipython",
    "version": 3
   },
   "file_extension": ".py",
   "mimetype": "text/x-python",
   "name": "python",
   "nbconvert_exporter": "python",
   "pygments_lexer": "ipython3",
   "version": "undefined.undefined.undefined"
  }
 },
 "nbformat": 4,
 "nbformat_minor": 2
}
