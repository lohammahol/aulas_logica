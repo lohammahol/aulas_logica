{
 "cells": [
  {
   "cell_type": "markdown",
   "metadata": {},
   "source": [
    "1. Escreva uma função que utilize uma variável global para contar o número de vezes que foi\n",
    "chamada. A função deve retornar o número atual de chamadas."
   ]
  },
  {
   "cell_type": "code",
   "execution_count": 2,
   "metadata": {},
   "outputs": [
    {
     "name": "stdout",
     "output_type": "stream",
     "text": [
      "Dentro da função 1\n",
      "Dentro da função 2\n",
      "Dentro da função 3\n"
     ]
    }
   ],
   "source": [
    "x = 0 \n",
    "def funcao() :\n",
    "    global x\n",
    "    x = x + 1\n",
    "    print(\"Dentro da função\", x)\n",
    "    \n",
    "funcao()\n",
    "funcao()\n",
    "funcao()"
   ]
  },
  {
   "cell_type": "markdown",
   "metadata": {},
   "source": [
    "2. Crie um algoritmo que receba em variável global o valor atual do dólar e do euro, crie uma\n",
    "função que receba o valor a ser convertido e imprima a conversão em dólar e em euro"
   ]
  },
  {
   "cell_type": "code",
   "execution_count": 5,
   "metadata": {},
   "outputs": [
    {
     "name": "stdout",
     "output_type": "stream",
     "text": [
      "O valor convertido para dolar é 3.90 \n",
      "O valor convertido para euro é 3.67\n"
     ]
    }
   ],
   "source": [
    "dolar = 5.13\n",
    "euro = 5.45\n",
    "def converter(valor) :\n",
    "    valor_convertido_dolar = valor/dolar \n",
    "    valor_convertido_euro = valor/euro\n",
    "    print(f\"O valor convertido para dolar é {valor_convertido_dolar:.2f} \")\n",
    "    print(f\"O valor convertido para euro é {valor_convertido_euro:.2f}\")\n",
    "\n",
    "converter(20)\n",
    "\n"
   ]
  },
  {
   "cell_type": "markdown",
   "metadata": {},
   "source": [
    "3. Escreva uma função que recebe um nome e o adicione a uma lista de nomes global. Em\n",
    "seguida, escreva outra função que remova um elemento dessa lista global recebendo o nome."
   ]
  },
  {
   "cell_type": "code",
   "execution_count": 1,
   "metadata": {},
   "outputs": [
    {
     "name": "stdout",
     "output_type": "stream",
     "text": [
      "['Rodrigo', 'Buru', 'alelister', 'Marcos já que eu fiz']\n",
      "['Rodrigo', 'Buru', 'alelister', 'Marcos já que eu fiz', 'Douglas']\n",
      "['Rodrigo', 'Buru', 'alelister', 'Marcos já que eu fiz', 'Douglas', 'Douglas']\n"
     ]
    }
   ],
   "source": [
    "listanomes = [\"Rodrigo\", \"Buru\", \"alelister\"]\n",
    "\n",
    "def adicionar(nome) :\n",
    "    listanomes.append(nome)\n",
    "    print(listanomes) \n",
    "\n",
    "def remover(nome) :\n",
    "    listanomes.remove(nome) \n",
    "    print(listanomes)\n",
    "\n",
    "adicionar(\"Marcos já que eu fiz\")\n",
    "adicionar(\"Douglas\")\n",
    "adicionar(\"Douglas\")\n",
    " "
   ]
  },
  {
   "cell_type": "markdown",
   "metadata": {},
   "source": [
    "4. Crie um caixa eletrônico: Crie uma variável global para armazenar o saldo, crie função para\n",
    "depositar e sacar, recebendo o valor como parâmetro, crie outra função para consultar o\n",
    "saldo. Crie um menu interativo com while para navegar entre as funções:\n",
    "[1] Depositar [4] Parar programa\n",
    "[2] Sacar\n",
    "[3] Consultar saldo"
   ]
  },
  {
   "cell_type": "code",
   "execution_count": 5,
   "metadata": {},
   "outputs": [
    {
     "name": "stdout",
     "output_type": "stream",
     "text": [
      "Menu\n",
      "[1] Depositar\n",
      "[2] Sacar\n",
      "[3] Consultar\n",
      "[4] Sair\n",
      "Menu\n",
      "[1] Depositar\n",
      "[2] Sacar\n",
      "[3] Consultar\n",
      "[4] Sair\n",
      "Menu\n",
      "[1] Depositar\n",
      "[2] Sacar\n",
      "[3] Consultar\n",
      "[4] Sair\n",
      "Seu saldo R$ 500.00\n",
      "Menu\n",
      "[1] Depositar\n",
      "[2] Sacar\n",
      "[3] Consultar\n",
      "[4] Sair\n"
     ]
    }
   ],
   "source": [
    "saldo = 0 \n",
    "\n",
    "def Depositar(valor) :\n",
    "    global saldo \n",
    "    saldo = saldo + valor\n",
    "\n",
    "def sacar(valor) :\n",
    "    global saldo\n",
    "    saldo = saldo + valor \n",
    "\n",
    "def Consultarsaldo():\n",
    "    print(f\"Seu saldo R$ {saldo:.2f}\")\n",
    "while True :\n",
    "    print(\"Menu\")  \n",
    "    print(\"[1] Depositar\")\n",
    "    print(\"[2] Sacar\") \n",
    "    print(\"[3] Consultar\") \n",
    "    print(\"[4] Sair\")\n",
    "    opcao = input(\"Digite a opcao menu\")\n",
    "    if opcao == \"1\" :\n",
    "        valor = float(input(\"Digite o valor para depositar\"))\n",
    "        Depositar(valor) \n",
    "    elif opcao == \"2\" :\n",
    "        valor = float(input(\"Digite o valor para sacar\"))\n",
    "        sacar(valor)\n",
    "    elif opcao == \"3\" :\n",
    "        Consultarsaldo()\n",
    "    else :\n",
    "        break \n",
    "\n",
    "\n",
    "\n",
    "\n",
    "\n",
    "\n",
    "\n"
   ]
  },
  {
   "cell_type": "markdown",
   "metadata": {},
   "source": [
    "5. Desenhando um retângulo. Crie um algoritmo que receba em variável global um caractere\n",
    "especial. Em uma função receba 2 parâmetros altura e largura e desenhe de acordo com a\n",
    "largura, a quantidade de vezes que irá repetir o caractere, e de acordo com a altura, o número\n",
    "de linhas que será desenhado. Ex: Caractere +, largura 20 altura 5:"
   ]
  },
  {
   "cell_type": "code",
   "execution_count": 8,
   "metadata": {},
   "outputs": [
    {
     "name": "stdout",
     "output_type": "stream",
     "text": [
      "+\n",
      "+\n",
      "+\n",
      "+\n",
      "+\n"
     ]
    }
   ],
   "source": [
    "caractere = \"+\"\n",
    "def desenharForma(l, a) :\n",
    "    global caractere \n",
    "    for i in range(a) :\n",
    "        print(caractere * 1 )\n",
    "\n",
    "desenharForma(20,5)"
   ]
  },
  {
   "cell_type": "markdown",
   "metadata": {},
   "source": [
    "6. No exercício anterior, inclua uma docstring e os annotations na função para explicar para o\n",
    "usuário, como utiliza-la"
   ]
  },
  {
   "cell_type": "code",
   "execution_count": null,
   "metadata": {},
   "outputs": [],
   "source": []
  }
 ],
 "metadata": {
  "kernelspec": {
   "display_name": "Python 3",
   "language": "python",
   "name": "python3"
  },
  "language_info": {
   "codemirror_mode": {
    "name": "ipython",
    "version": 3
   },
   "file_extension": ".py",
   "mimetype": "text/x-python",
   "name": "python",
   "nbconvert_exporter": "python",
   "pygments_lexer": "ipython3",
   "version": "3.12.2"
  }
 },
 "nbformat": 4,
 "nbformat_minor": 2
}
