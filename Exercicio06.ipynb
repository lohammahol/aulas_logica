{
 "cells": [
  {
   "cell_type": "markdown",
   "metadata": {},
   "source": [
    "1. Utilizando o comando for, exiba todos os números impares, de 1 a 40"
   ]
  },
  {
   "cell_type": "code",
   "execution_count": 1,
   "metadata": {},
   "outputs": [
    {
     "name": "stdout",
     "output_type": "stream",
     "text": [
      "1\n",
      "2\n",
      "3\n",
      "4\n",
      "5\n",
      "6\n",
      "7\n",
      "8\n",
      "9\n",
      "10\n",
      "11\n",
      "12\n",
      "13\n",
      "14\n",
      "15\n",
      "16\n",
      "17\n",
      "18\n",
      "19\n",
      "20\n",
      "21\n",
      "22\n",
      "23\n",
      "24\n",
      "25\n",
      "26\n",
      "27\n",
      "28\n",
      "29\n",
      "30\n",
      "31\n",
      "32\n",
      "33\n",
      "34\n",
      "35\n",
      "36\n",
      "37\n",
      "38\n",
      "39\n"
     ]
    }
   ],
   "source": [
    "for x in range(1, 40) :\n",
    "    print(x)"
   ]
  },
  {
   "cell_type": "markdown",
   "metadata": {},
   "source": [
    "2. Gere os 6 números do sorteio da mega-sena de forma aleatória."
   ]
  },
  {
   "cell_type": "code",
   "execution_count": 5,
   "metadata": {},
   "outputs": [
    {
     "name": "stdout",
     "output_type": "stream",
     "text": [
      "31\n",
      "12\n",
      "30\n",
      "44\n",
      "27\n",
      "42\n"
     ]
    }
   ],
   "source": [
    "import random \n",
    "for x in range(6) :\n",
    "    nrSorteado = random.randint (1, 60)\n",
    "    print(nrSorteado)\n"
   ]
  },
  {
   "cell_type": "markdown",
   "metadata": {},
   "source": [
    "3. Receba 5 números e verifique a soma e a quantidade de todos os pares e ímpares digitados"
   ]
  },
  {
   "cell_type": "code",
   "execution_count": 1,
   "metadata": {},
   "outputs": [
    {
     "name": "stdout",
     "output_type": "stream",
     "text": [
      "a soma dos pares 0 e a soma de impares 21\n"
     ]
    }
   ],
   "source": [
    "par = 0\n",
    "impar = 0\n",
    "for nr in range (5) : \n",
    "    numero = int(input(\"Digite um numero\"))\n",
    "    if numero % 2 == 0 :\n",
    "        par = numero + par\n",
    "    else :\n",
    "        impar = numero + impar \n",
    "print(f\"a soma dos pares {par} e a soma de impares {impar}\")"
   ]
  },
  {
   "cell_type": "markdown",
   "metadata": {},
   "source": [
    "4. Solicite os parâmetros de início, fim e passo para o laço de repetição usando a função range()\n",
    "e exiba o valor atual da variável de controle a cada iteração. range( x , y , z )"
   ]
  },
  {
   "cell_type": "code",
   "execution_count": 2,
   "metadata": {},
   "outputs": [],
   "source": [
    "inicio = int(input(\"Digite o valor inicial\"))\n",
    "fim = int(input(\"Digite o valor final\"))\n",
    "passo = int(input(\"Digite o passo\"))\n",
    "for x in range(inicio, fim, passo) :\n",
    "    print(x)"
   ]
  },
  {
   "cell_type": "markdown",
   "metadata": {},
   "source": [
    "5. Ler do teclado a idade e o sexo de 10 pessoas, calcule e imprima:\n",
    "• idade média das mulheres\n",
    "• idade média dos homens\n",
    "• idade média do grupo"
   ]
  },
  {
   "cell_type": "code",
   "execution_count": 5,
   "metadata": {},
   "outputs": [
    {
     "name": "stdout",
     "output_type": "stream",
     "text": [
      "Média das mulheres 48.333333333333336\n",
      "Média dos homens 28.5\n",
      "Média do grupo 40.4\n"
     ]
    }
   ],
   "source": [
    "soma_mulheres = 0\n",
    "soma_homens = 0 \n",
    "qtde_mulheres = 0 \n",
    "qtde_homens = 0 \n",
    "\n",
    "for x in range (5) :\n",
    "    idade  = int(input(\"Digite a idade\"))\n",
    "    sexo = input(\"Digite o sexo: [F/M]\")\n",
    "    if sexo == \"f\" :\n",
    "        soma_mulheres = soma_mulheres + idade \n",
    "        qtde_mulheres = qtde_homens + 1\n",
    "    else:\n",
    "        soma_homens = soma_homens + idade\n",
    "        qtde_homens = qtde_homens + 1\n",
    "print(f\"Média das mulheres {soma_mulheres / qtde_mulheres}\")\n",
    "print(f\"Média dos homens {soma_homens / qtde_homens}\")\n",
    "print(f'Média do grupo {(soma_homens + soma_mulheres) / (qtde_homens + qtde_mulheres)}')"
   ]
  },
  {
   "cell_type": "markdown",
   "metadata": {},
   "source": [
    "6. Escreva um programa que mostre todos os numeros entre 5 e 100 que sao divisiveis por 7. os numeros obtidos devem ser impressos em sequencia "
   ]
  },
  {
   "cell_type": "code",
   "execution_count": 6,
   "metadata": {},
   "outputs": [
    {
     "name": "stdout",
     "output_type": "stream",
     "text": [
      "7\n",
      "14\n",
      "21\n",
      "28\n",
      "35\n",
      "42\n",
      "49\n",
      "56\n",
      "63\n",
      "70\n",
      "77\n",
      "84\n",
      "91\n",
      "98\n"
     ]
    }
   ],
   "source": [
    "for nr in range (5, 100) :\n",
    "    if nr % 7 == 0 :\n",
    "        print(nr)\n"
   ]
  },
  {
   "cell_type": "markdown",
   "metadata": {},
   "source": [
    "7."
   ]
  },
  {
   "cell_type": "code",
   "execution_count": 17,
   "metadata": {},
   "outputs": [
    {
     "name": "stdout",
     "output_type": "stream",
     "text": [
      "onirdnaxela retsilac aivil\n"
     ]
    }
   ],
   "source": [
    "palavra = input(\"Digite uma palavra\")\n",
    "nova_palavra = \"\"\n",
    "for letra in palavra :\n",
    "    nova_palavra = letra + nova_palavra\n",
    "\n",
    "print(nova_palavra)"
   ]
  }
 ],
 "metadata": {
  "kernelspec": {
   "display_name": "Python 3",
   "language": "python",
   "name": "python3"
  },
  "language_info": {
   "codemirror_mode": {
    "name": "ipython",
    "version": 3
   },
   "file_extension": ".py",
   "mimetype": "text/x-python",
   "name": "python",
   "nbconvert_exporter": "python",
   "pygments_lexer": "ipython3",
   "version": "3.12.2"
  }
 },
 "nbformat": 4,
 "nbformat_minor": 2
}
