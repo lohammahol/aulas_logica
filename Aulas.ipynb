{
 "cells": [
  {
   "cell_type": "markdown",
   "metadata": {},
   "source": [
    "Aula 16/02/2024 - comandos de saída (print) / Tipos de dados (string, int, float, bool) / Operações Aritméticas(+ - * / % **)"
   ]
  },
  {
   "cell_type": "code",
   "execution_count": 8,
   "metadata": {},
   "outputs": [
    {
     "name": "stdout",
     "output_type": "stream",
     "text": [
      "olá, Mundo!\n",
      "olá, Mundo!\n",
      "meu primeiro codigo em python. usando aspas duplas\n",
      "meu primeiro codigo em python. usando aspas simples\n",
      "para duplicar uma linha pressionei shift + alt + seta pra baixo\n",
      "123\n",
      "70.5\n",
      "True\n",
      "sesi\n",
      "14\n",
      "86\n",
      "strings 10 70.5 False\n",
      "60\n",
      "54\n",
      "1316223135288\n",
      "1609.0\n",
      "1\n",
      "27\n",
      "11.0\n"
     ]
    }
   ],
   "source": [
    "#este é meu primeiro código\n",
    "#a função print serve para exibir na tela alguma mensagem \n",
    "#a função print serve para exibir na tela alguma mensagem \n",
    "print(\"olá, Mundo!\")\n",
    "print(\"olá, Mundo!\")\n",
    "print('meu primeiro codigo em python. usando aspas duplas')\n",
    "print(\"meu primeiro codigo em python. usando aspas simples\")\n",
    "print(\"para duplicar uma linha pressionei shift + alt + seta pra baixo\")\n",
    "\n",
    "print( 123 ) #estou exibindo um numero inteiro, por isso, nao preciso da \"\"\n",
    "print( 70.5 ) #numero float\n",
    "print(True) #campo logira (verdadeiro ou falso) (true ou false)\n",
    "print(\"sesi\") #tipo string\n",
    "\n",
    "#somando 2 numeros interios (o sinal + para 2 numeros realiza a SOMA)\n",
    "print (8 + 6)\n",
    "#porem se forem 2 strings (o sinal de + realiza a   CONCATENAÇÃO)\n",
    "print (\"8\" + \"6\")\n",
    "\n",
    "#possi imprimir varias informaçoes ao mesmo tempo separando-as por , \n",
    "print(\"strings\", 10, 70.5, False)\n",
    "print( 10 + 50 ) # + é o operador se SOMA (numero inteiro e decimal)\n",
    "print( 67 - 13 ) # - é o operador se SUBTRAÇÃO (nº inteiro e decimal)\n",
    "print( 4214328 * 312321 ) # é o operador de MULTIPLICAÇÃO\n",
    "print( 4827 / 3 ) # / é  o operador de DIVISÃO \n",
    "print( 31 % 3 ) # % é operador do resto da divisão (MÓDULO)\n",
    "print( 3 ** 3 ) #** é o operador de exponenciação 3³\n",
    "print( (8 + 6) / 2 ) # o parenteses define a maior ordem de precedencia\n"
   ]
  },
  {
   "cell_type": "markdown",
   "metadata": {},
   "source": [
    "Aula 22/02/2024 - comando de entrada (input) / variáveis / Pseudocódigo"
   ]
  },
  {
   "cell_type": "code",
   "execution_count": 4,
   "metadata": {},
   "outputs": [
    {
     "name": "stdout",
     "output_type": "stream",
     "text": [
      "curso\n",
      "Desenvolvimento de sistemas\n",
      "curso Desenvolvimento de sistemas\n",
      "olá loham você tem 17 hoje está fazendo 23.5 ºC\n",
      "olá loham, você tem 17 anos, hoje está fazendo 23.5 ºC\n"
     ]
    }
   ],
   "source": [
    "#Declarando minha primeira variável\n",
    "#lemos da seguinte forma:\n",
    "#variável curso recebe (=) a string \"Desenvolvimento de sistemas\"\n",
    "#Receba/Armazene o texto \"Desenvolvimento de sistemas\"\n",
    "curso = \"Desenvolvimento de sistemas\"\n",
    "#Exiba o valor armazenado \n",
    "print(\"curso\") # Para imprimir uma variável não se coloca entre\"\"\n",
    "print(curso) # Jeito correto de utilizar uma variável\n",
    "print(\"curso\", curso )\n",
    "\n",
    "#Criando e atribuindo uma variável ,\n",
    "idade = 17\n",
    "temperatura = 23.5\n",
    "nome = \"loham\"\n",
    "#Exiba o valor das 3 variáveis\n",
    "print (\"olá\" , nome , \"você tem\" , idade , \"hoje está fazendo\" , temperatura , \"ºC\")\n",
    "print (f\"olá {nome}, você tem {idade} anos, hoje está fazendo {temperatura} ºC\")\n",
    "\n",
    "#Declarando variáveis lógicas, recebe apenas True ou False\n",
    "Chovendo = False \n",
    "dia = True\n",
    "\n",
    "#Nesta linha abaixo ocorrerá um erro pois não existe uma variável com o \n",
    "#Nome salario, entao nao consegue encontrar nada para exibir \n",
    "#Nameerror: name \"salario\" is not defined\n",
    "#print(\"salario\", salario)\n",
    "\n",
    "#Declarando um constante, diferentemente da variável que possa alterar o valor \n",
    "#na constante não é permitido, declaramos com o nome todo em maiuscula \n",
    "PI = 3.1415\n",
    "\n",
    "#Passo 1: Receber o nome da pessoa\n",
    "#No input sempre recebemos uma string\n",
    "nome = input(\"qual é o seu nome?\")\n",
    "#Passo 2: Receber a idade da pessoa \n",
    "#Posso converter essa string recebida do tipo inteiro\n",
    "idade = int (input (\"qual é a sua idade?\"))\n",
    "#Passo 3: Receber o peso da pessoa\n",
    "#Posso converter essa string recebida do tipo float \n",
    "Peso = float (input (\"qual é o seu peso?\"))\n",
    "#Passo 4: Exibir o nome, a idade e o peso \n",
    "print ( nome, idade , Peso)\n",
    "print (f\"seu nome é {nome} , sua idade é {idade} , seu peso é {Peso}kg\")\n",
    "\n",
    "#Exibindo os tipos das variáveis\n",
    "#Tudo o que recebemos do input é do tipo string\n",
    "print(type(nome), type(idade), type(Peso))\n",
    "\n",
    "\n",
    "\n",
    "\n",
    "\n",
    "\n",
    "\n",
    "\n"
   ]
  },
  {
   "cell_type": "markdown",
   "metadata": {},
   "source": [
    "23/02/2024 - Operações com variáveis"
   ]
  },
  {
   "cell_type": "code",
   "execution_count": null,
   "metadata": {},
   "outputs": [],
   "source": [
    "#Receber o primeiro número\n",
    "Numero1 = float(input(\"Digite o primeiro número: \"))\n",
    "#Receber o segundo número\n",
    "Numero2 = float(input(\"Digite o segundo número: \"))\n",
    "#Receber o terceiro número\n",
    "Numero3 = float(input(\"Digite o terceiro número: \"))\n",
    "#Soma o primeiro número + o segundo número \n",
    "Soma = Numero1 + Numero2 + Numero3\n",
    "#Exibir o resultado \n",
    "print(type(Soma))\n",
    "print(Soma)\n"
   ]
  },
  {
   "cell_type": "code",
   "execution_count": 9,
   "metadata": {},
   "outputs": [
    {
     "name": "stdout",
     "output_type": "stream",
     "text": [
      "93\n"
     ]
    }
   ],
   "source": [
    "Numero1 = int(input(\"Digite o primeiro número: \"))\n",
    "Numero2 = int(input(\"Digite o segundo número: \"))\n",
    "Numero3 = int(input(\"Digite o terceiro número: \"))\n",
    "multiplicação = (Numero1 + Numero2 + Numero3)\n",
    "print(multiplicação)"
   ]
  },
  {
   "cell_type": "code",
   "execution_count": 15,
   "metadata": {},
   "outputs": [
    {
     "name": "stdout",
     "output_type": "stream",
     "text": [
      "1924\n"
     ]
    }
   ],
   "source": [
    "Preco = float(input(\"qual o valor do celular?\"))\n",
    "Desconto = float(input(\"qual o valor do desconto?\"))\n",
    "Preco = Preco - Desconto\n",
    "print(Preco)\n",
    "print(f\"você obteve tantos reais de desconto e sobrou tantos\")\n"
   ]
  },
  {
   "cell_type": "code",
   "execution_count": 16,
   "metadata": {},
   "outputs": [
    {
     "name": "stdout",
     "output_type": "stream",
     "text": [
      "6\n",
      "36\n",
      "1080\n",
      "o valor final é 1080\n"
     ]
    }
   ],
   "source": [
    "Numero = 4 + 2\n",
    "print(Numero)\n",
    "Numero = Numero ** 2\n",
    "print(Numero)\n",
    "Numero = Numero * (50 - 20)\n",
    "print(Numero)\n",
    "print(f\"o valor final é {Numero}\")"
   ]
  },
  {
   "cell_type": "code",
   "execution_count": null,
   "metadata": {},
   "outputs": [],
   "source": [
    "horas_por_dia = 8\n",
    "dias_totais = 15\n",
    "horas_trabalho = horas_por_dia * dias_totais\n",
    "custo_hora = 100\n",
    "custo_total = horas_trabalho * custo_hora\n",
    "print(f\"Você deve cobrar R$ {custo_total}\" )"
   ]
  },
  {
   "cell_type": "markdown",
   "metadata": {},
   "source": [
    "29/02/2024 - Operadores relacionais e estrutura condicional "
   ]
  },
  {
   "cell_type": "code",
   "execution_count": 1,
   "metadata": {},
   "outputs": [
    {
     "name": "stdout",
     "output_type": "stream",
     "text": [
      "a > b ? False\n",
      "a == b ? False\n",
      "a != b ? True\n",
      "a > 2 ? False\n",
      "a >= 2 ? True\n"
     ]
    }
   ],
   "source": [
    "a = 2\n",
    "b = 3\n",
    "print(f\"a > b ? { a > b }\") \n",
    "print(f\"a == b ? { a == b }\")\n",
    "print(f\"a != b ? { a != b }\")\n",
    "print(f\"a > 2 ? { a > 2}\")\n",
    "print(f\"a >= 2 ? {a >= 2}\")\n"
   ]
  },
  {
   "cell_type": "code",
   "execution_count": null,
   "metadata": {},
   "outputs": [],
   "source": [
    "tenho_ingresso = True\n",
    "if tenho_ingresso == True:\n",
    "      print(\"posso entrar\")\n",
    "      \n",
    "else : \n",
    "      print(\"Vá comprar\")\n",
    "\n",
    "print(\"fim\")\n"
   ]
  },
  {
   "cell_type": "code",
   "execution_count": 2,
   "metadata": {},
   "outputs": [
    {
     "ename": "SyntaxError",
     "evalue": "incomplete input (1096614277.py, line 9)",
     "output_type": "error",
     "traceback": [
      "\u001b[1;36m  Cell \u001b[1;32mIn[2], line 9\u001b[1;36m\u001b[0m\n\u001b[1;33m    \u001b[0m\n\u001b[1;37m    ^\u001b[0m\n\u001b[1;31mSyntaxError\u001b[0m\u001b[1;31m:\u001b[0m incomplete input\n"
     ]
    }
   ],
   "source": [
    "# Passo 1: Receber o valor da idade\n",
    "idade = int(input(\"qual sua idade\"))\n",
    "# Passo 2: Verificar SE é maior ou igual a 18 ENTÃO\n",
    "if idade >= 18 :\n",
    "    # Passo 3: Se for Exibir \"maior Idade\"\n",
    "    print(\"maior idade\")\n",
    "else:\n",
    "    print(\"voce é menor!\")\n",
    "print(\"fim\")"
   ]
  },
  {
   "cell_type": "markdown",
   "metadata": {},
   "source": [
    "01/03/2014 -Operadores Lógicas e Estrutura condicional"
   ]
  },
  {
   "cell_type": "code",
   "execution_count": null,
   "metadata": {},
   "outputs": [],
   "source": [
    "a = 2\n",
    "b = 3 \n",
    "a = 5\n",
    "#           false   e     false \n",
    "print ( ( a > 2 ) and ( b < 2 ) )  # false\n",
    "#           false   e     false\n",
    "print ( ( a > 2 ) or ( b > 2 ) )  # false\n",
    "#           false   ou    true\n",
    "print ( ( a > 2 ) or ( b > 5 ) ) # true\n",
    "\n",
    "idade = 18\n",
    "#           false        true\n",
    "print( idade > 18 or idade == 18 ) #true\n",
    "#           idade >= 18\n"
   ]
  },
  {
   "cell_type": "code",
   "execution_count": null,
   "metadata": {},
   "outputs": [],
   "source": [
    "lado1 = input ( \"digite lado 1\" )\n",
    "lado2 = input ( \"digite lado 2\" )\n",
    "lado3 = input ( \"digite lado 3\" )\n",
    "if  ( lado1 == lado2 ) and ( lado2 == lado3 ):\n",
    "    print ( \"triângulo equilátero\" )\n",
    "elif ( lado1 != lado2 ) and ( lado2 != lado3 ) and ( lado1 != lado3 ):\n",
    "    print ( \"triângulo escaleno\" )\n",
    "else\n",
    "    print ( \"triângulo isósceles\" )"
   ]
  },
  {
   "cell_type": "code",
   "execution_count": 2,
   "metadata": {},
   "outputs": [
    {
     "name": "stdout",
     "output_type": "stream",
     "text": [
      "abaixo de peso ideal!\n"
     ]
    }
   ],
   "source": [
    "altura = float ( input ( \"digite sua altura (em m)\" ) )\n",
    "peso = float ( input ( \"digite seu peso em kg\" ) )\n",
    "imc = peso / ( altura ** 2 ) \n",
    "if imc < 18.5 :\n",
    "    print ( \"abaixo de peso ideal!\" )\n",
    "elif imc >= 18.6 and imc <= 24.9 :\n",
    "    print ( \"peso ideal!\" )     \n",
    "elif imc >= 25 and imc <= 29.9:\n",
    "     print ( \"sobrepeso\" )     \n",
    "else: \n",
    "    print ( \"obesidade\" )"
   ]
  },
  {
   "cell_type": "code",
   "execution_count": null,
   "metadata": {},
   "outputs": [],
   "source": [
    "letra = input (\"digite uma letra\")\n",
    "if letra == \"a\" or letra == \"e\" or letra == \"i\" or letra == \"o\" or letra == \"u\" :\n",
    "    print(f\"a letra {letra} é uma vogal\")\n",
    "elif letra == \"1\" or letra == \"2\" or letra == \"3\" or letra == \"4\" or letra == \"5\" or letra == \"6\":\n",
    "    print(f\" a letra {letra} é um numero\")\n",
    "else :\n",
    "    print(f\"a letra {letra} não é uma vogal\") \n",
    "  "
   ]
  },
  {
   "cell_type": "markdown",
   "metadata": {},
   "source": [
    "07/03/2024 - Estrutura condicional aninhada / match case"
   ]
  },
  {
   "cell_type": "code",
   "execution_count": 8,
   "metadata": {},
   "outputs": [
    {
     "name": "stdout",
     "output_type": "stream",
     "text": [
      "seu voto é facultativo\n",
      "FIM\n"
     ]
    }
   ],
   "source": [
    "idade = int(input(\"17 anos\"))\n",
    "if idade >= 18 and 17 <= 70:\n",
    "    print (\"você é obrigado a votar\")\n",
    "else:\n",
    "    if 17 < 16:\n",
    "       print (\"você não pode votar\")\n",
    "    else:\n",
    "         if 17 >= 16 or 17 > 70:\n",
    "            print(\"seu voto é facultativo\")\n",
    "print(\"FIM\")"
   ]
  },
  {
   "cell_type": "code",
   "execution_count": 13,
   "metadata": {},
   "outputs": [
    {
     "name": "stdout",
     "output_type": "stream",
     "text": [
      "operador digitado inválido\n"
     ]
    }
   ],
   "source": [
    "n1 = int(input(\"digite o n1\"))\n",
    "n2 = int(input(\"digite o n2\"))\n",
    "operador = input(\"digite o operador + -  * / **\")\n",
    "match operador:\n",
    "    case '+': # if operador == '+' :\n",
    "        print(f\"{n1} {operador} {n2} = {n1 + n2}\")\n",
    "    case '_': # if operador == '-' :\n",
    "        print(f'{n1} {operador} {n2} = {n1 - n2}')\n",
    "    case '*': # if operador == '*' :\n",
    "        print(f'{n1} {operador} {n2} = {n1 * n2}')\n",
    "    case '/': # if operador == '/' :\n",
    "        print(f'{n1} {operador} {n2} = {n1 / n2}')\n",
    "    case '**': # if operador == '**' :\n",
    "        print(f'{n1} {operador} {n2} = {n1 ** n2}')\n",
    "    case _ :\n",
    "        print(\"operador digitado inválido\")"
   ]
  },
  {
   "cell_type": "markdown",
   "metadata": {},
   "source": [
    "08/03/2024 - Laço de repetição - While"
   ]
  },
  {
   "cell_type": "code",
   "execution_count": 6,
   "metadata": {},
   "outputs": [
    {
     "name": "stdout",
     "output_type": "stream",
     "text": [
      "10\n",
      "9\n",
      "8\n",
      "7\n",
      "6\n",
      "5\n",
      "4\n",
      "3\n",
      "2\n",
      "1\n",
      "0\n",
      "Feliz ano novo 🎆\n"
     ]
    }
   ],
   "source": [
    "import time #Importando uma biblioteca de tempo\n",
    "x = 10 \n",
    "while x >= 0 :\n",
    "    print(x)\n",
    "    time.sleep(0.9)  #Dando uma pausa de 1s na execução\n",
    "    x = x - 1 \n",
    "print (\"Feliz ano novo 🎆🎉\")"
   ]
  },
  {
   "cell_type": "code",
   "execution_count": 9,
   "metadata": {},
   "outputs": [
    {
     "name": "stdout",
     "output_type": "stream",
     "text": [
      "Seja bem vindo, loham\n",
      "Seja bem vindo, sair\n"
     ]
    }
   ],
   "source": [
    "texto = \"\"\n",
    "while texto != \"sair\" :\n",
    "    texto = input (\"digite seu nome ('sair' para terminar ) : \")\n",
    "    print(f\"Seja bem vindo, {texto}\")"
   ]
  },
  {
   "cell_type": "code",
   "execution_count": 3,
   "metadata": {},
   "outputs": [
    {
     "ename": "KeyboardInterrupt",
     "evalue": "Interrupted by user",
     "output_type": "error",
     "traceback": [
      "\u001b[1;31m---------------------------------------------------------------------------\u001b[0m",
      "\u001b[1;31mKeyboardInterrupt\u001b[0m                         Traceback (most recent call last)",
      "Cell \u001b[1;32mIn[3], line 4\u001b[0m\n\u001b[0;32m      2\u001b[0m nr_tentativa \u001b[38;5;241m=\u001b[39m \u001b[38;5;241m0\u001b[39m\n\u001b[0;32m      3\u001b[0m \u001b[38;5;28;01mwhile\u001b[39;00m \u001b[38;5;28;01mTrue\u001b[39;00m : \n\u001b[1;32m----> 4\u001b[0m     senha \u001b[38;5;241m=\u001b[39m \u001b[38;5;28;43minput\u001b[39;49m\u001b[43m(\u001b[49m\u001b[38;5;124;43m'\u001b[39;49m\u001b[38;5;124;43mqual é a senha 🤔 ? \u001b[39;49m\u001b[38;5;124;43m\"\u001b[39;49m\u001b[38;5;124;43mdesisto\u001b[39;49m\u001b[38;5;124;43m\"\u001b[39;49m\u001b[38;5;124;43m para sair 🔒 \u001b[39;49m\u001b[38;5;124;43m'\u001b[39;49m\u001b[43m)\u001b[49m\n\u001b[0;32m      5\u001b[0m     \u001b[38;5;28;01mif\u001b[39;00m senha \u001b[38;5;241m==\u001b[39m senha_senai:\n\u001b[0;32m      6\u001b[0m         \u001b[38;5;28mprint\u001b[39m(\u001b[38;5;124m\"\u001b[39m\u001b[38;5;124mvoce hackeou a rede \u001b[39m\u001b[38;5;124m\"\u001b[39m)\n",
      "File \u001b[1;32m~\\AppData\\Roaming\\Python\\Python312\\site-packages\\ipykernel\\kernelbase.py:1270\u001b[0m, in \u001b[0;36mKernel.raw_input\u001b[1;34m(self, prompt)\u001b[0m\n\u001b[0;32m   1268\u001b[0m     msg \u001b[38;5;241m=\u001b[39m \u001b[38;5;124m\"\u001b[39m\u001b[38;5;124mraw_input was called, but this frontend does not support input requests.\u001b[39m\u001b[38;5;124m\"\u001b[39m\n\u001b[0;32m   1269\u001b[0m     \u001b[38;5;28;01mraise\u001b[39;00m StdinNotImplementedError(msg)\n\u001b[1;32m-> 1270\u001b[0m \u001b[38;5;28;01mreturn\u001b[39;00m \u001b[38;5;28;43mself\u001b[39;49m\u001b[38;5;241;43m.\u001b[39;49m\u001b[43m_input_request\u001b[49m\u001b[43m(\u001b[49m\n\u001b[0;32m   1271\u001b[0m \u001b[43m    \u001b[49m\u001b[38;5;28;43mstr\u001b[39;49m\u001b[43m(\u001b[49m\u001b[43mprompt\u001b[49m\u001b[43m)\u001b[49m\u001b[43m,\u001b[49m\n\u001b[0;32m   1272\u001b[0m \u001b[43m    \u001b[49m\u001b[38;5;28;43mself\u001b[39;49m\u001b[38;5;241;43m.\u001b[39;49m\u001b[43m_parent_ident\u001b[49m\u001b[43m[\u001b[49m\u001b[38;5;124;43m\"\u001b[39;49m\u001b[38;5;124;43mshell\u001b[39;49m\u001b[38;5;124;43m\"\u001b[39;49m\u001b[43m]\u001b[49m\u001b[43m,\u001b[49m\n\u001b[0;32m   1273\u001b[0m \u001b[43m    \u001b[49m\u001b[38;5;28;43mself\u001b[39;49m\u001b[38;5;241;43m.\u001b[39;49m\u001b[43mget_parent\u001b[49m\u001b[43m(\u001b[49m\u001b[38;5;124;43m\"\u001b[39;49m\u001b[38;5;124;43mshell\u001b[39;49m\u001b[38;5;124;43m\"\u001b[39;49m\u001b[43m)\u001b[49m\u001b[43m,\u001b[49m\n\u001b[0;32m   1274\u001b[0m \u001b[43m    \u001b[49m\u001b[43mpassword\u001b[49m\u001b[38;5;241;43m=\u001b[39;49m\u001b[38;5;28;43;01mFalse\u001b[39;49;00m\u001b[43m,\u001b[49m\n\u001b[0;32m   1275\u001b[0m \u001b[43m\u001b[49m\u001b[43m)\u001b[49m\n",
      "File \u001b[1;32m~\\AppData\\Roaming\\Python\\Python312\\site-packages\\ipykernel\\kernelbase.py:1313\u001b[0m, in \u001b[0;36mKernel._input_request\u001b[1;34m(self, prompt, ident, parent, password)\u001b[0m\n\u001b[0;32m   1310\u001b[0m \u001b[38;5;28;01mexcept\u001b[39;00m \u001b[38;5;167;01mKeyboardInterrupt\u001b[39;00m:\n\u001b[0;32m   1311\u001b[0m     \u001b[38;5;66;03m# re-raise KeyboardInterrupt, to truncate traceback\u001b[39;00m\n\u001b[0;32m   1312\u001b[0m     msg \u001b[38;5;241m=\u001b[39m \u001b[38;5;124m\"\u001b[39m\u001b[38;5;124mInterrupted by user\u001b[39m\u001b[38;5;124m\"\u001b[39m\n\u001b[1;32m-> 1313\u001b[0m     \u001b[38;5;28;01mraise\u001b[39;00m \u001b[38;5;167;01mKeyboardInterrupt\u001b[39;00m(msg) \u001b[38;5;28;01mfrom\u001b[39;00m \u001b[38;5;28;01mNone\u001b[39;00m\n\u001b[0;32m   1314\u001b[0m \u001b[38;5;28;01mexcept\u001b[39;00m \u001b[38;5;167;01mException\u001b[39;00m:\n\u001b[0;32m   1315\u001b[0m     \u001b[38;5;28mself\u001b[39m\u001b[38;5;241m.\u001b[39mlog\u001b[38;5;241m.\u001b[39mwarning(\u001b[38;5;124m\"\u001b[39m\u001b[38;5;124mInvalid Message:\u001b[39m\u001b[38;5;124m\"\u001b[39m, exc_info\u001b[38;5;241m=\u001b[39m\u001b[38;5;28;01mTrue\u001b[39;00m)\n",
      "\u001b[1;31mKeyboardInterrupt\u001b[0m: Interrupted by user"
     ]
    }
   ],
   "source": [
    "senha_senai = \"12345\"\n",
    "nr_tentativa = 0\n",
    "while True : \n",
    "    senha = input('qual é a senha 🤔 ? \"desisto\" para sair 🔒 ')\n",
    "    if senha == senha_senai:\n",
    "        print(\"voce hackeou a rede \")\n",
    "        break \n",
    "    elif senha == \"desisto\" : \n",
    "        break\n",
    "    else :\n",
    "        nr_tentativa = nr_tentativa + 1 \n",
    "        if nr_tentativa == 3 :\n",
    "            print(\"voce esta preso tentando hackar a rede\")\n",
    "            break\n",
    "print(\"FIM\")"
   ]
  },
  {
   "cell_type": "markdown",
   "metadata": {},
   "source": [
    "21/03/2024 - Revisão de while"
   ]
  },
  {
   "cell_type": "code",
   "execution_count": null,
   "metadata": {},
   "outputs": [],
   "source": [
    "resp = \"S\"\n",
    "while True == \"S\" :\n",
    "    resp = input(\"Deseja continuar? [S/N]\")\n",
    "\n",
    "print(\"FIM\")"
   ]
  },
  {
   "cell_type": "code",
   "execution_count": 2,
   "metadata": {},
   "outputs": [
    {
     "ename": "KeyboardInterrupt",
     "evalue": "Interrupted by user",
     "output_type": "error",
     "traceback": [
      "\u001b[1;31m---------------------------------------------------------------------------\u001b[0m",
      "\u001b[1;31mKeyboardInterrupt\u001b[0m                         Traceback (most recent call last)",
      "Cell \u001b[1;32mIn[2], line 4\u001b[0m\n\u001b[0;32m      2\u001b[0m qtde \u001b[38;5;241m=\u001b[39m \u001b[38;5;241m0\u001b[39m\n\u001b[0;32m      3\u001b[0m \u001b[38;5;28;01mwhile\u001b[39;00m \u001b[38;5;28;01mTrue\u001b[39;00m :\n\u001b[1;32m----> 4\u001b[0m     valor \u001b[38;5;241m=\u001b[39m \u001b[38;5;28mfloat\u001b[39m(\u001b[38;5;28;43minput\u001b[39;49m\u001b[43m(\u001b[49m\u001b[38;5;124;43m\"\u001b[39;49m\u001b[38;5;124;43mDigite o valor do produto [-1 para encerrar]\u001b[39;49m\u001b[38;5;124;43m\"\u001b[39;49m\u001b[43m)\u001b[49m)\n\u001b[0;32m      5\u001b[0m     \u001b[38;5;28;01mif\u001b[39;00m valor \u001b[38;5;241m==\u001b[39m \u001b[38;5;241m-\u001b[39m\u001b[38;5;241m1\u001b[39m :\n\u001b[0;32m      6\u001b[0m         \u001b[38;5;28;01mbreak\u001b[39;00m \n",
      "File \u001b[1;32m~\\AppData\\Roaming\\Python\\Python312\\site-packages\\ipykernel\\kernelbase.py:1270\u001b[0m, in \u001b[0;36mKernel.raw_input\u001b[1;34m(self, prompt)\u001b[0m\n\u001b[0;32m   1268\u001b[0m     msg \u001b[38;5;241m=\u001b[39m \u001b[38;5;124m\"\u001b[39m\u001b[38;5;124mraw_input was called, but this frontend does not support input requests.\u001b[39m\u001b[38;5;124m\"\u001b[39m\n\u001b[0;32m   1269\u001b[0m     \u001b[38;5;28;01mraise\u001b[39;00m StdinNotImplementedError(msg)\n\u001b[1;32m-> 1270\u001b[0m \u001b[38;5;28;01mreturn\u001b[39;00m \u001b[38;5;28;43mself\u001b[39;49m\u001b[38;5;241;43m.\u001b[39;49m\u001b[43m_input_request\u001b[49m\u001b[43m(\u001b[49m\n\u001b[0;32m   1271\u001b[0m \u001b[43m    \u001b[49m\u001b[38;5;28;43mstr\u001b[39;49m\u001b[43m(\u001b[49m\u001b[43mprompt\u001b[49m\u001b[43m)\u001b[49m\u001b[43m,\u001b[49m\n\u001b[0;32m   1272\u001b[0m \u001b[43m    \u001b[49m\u001b[38;5;28;43mself\u001b[39;49m\u001b[38;5;241;43m.\u001b[39;49m\u001b[43m_parent_ident\u001b[49m\u001b[43m[\u001b[49m\u001b[38;5;124;43m\"\u001b[39;49m\u001b[38;5;124;43mshell\u001b[39;49m\u001b[38;5;124;43m\"\u001b[39;49m\u001b[43m]\u001b[49m\u001b[43m,\u001b[49m\n\u001b[0;32m   1273\u001b[0m \u001b[43m    \u001b[49m\u001b[38;5;28;43mself\u001b[39;49m\u001b[38;5;241;43m.\u001b[39;49m\u001b[43mget_parent\u001b[49m\u001b[43m(\u001b[49m\u001b[38;5;124;43m\"\u001b[39;49m\u001b[38;5;124;43mshell\u001b[39;49m\u001b[38;5;124;43m\"\u001b[39;49m\u001b[43m)\u001b[49m\u001b[43m,\u001b[49m\n\u001b[0;32m   1274\u001b[0m \u001b[43m    \u001b[49m\u001b[43mpassword\u001b[49m\u001b[38;5;241;43m=\u001b[39;49m\u001b[38;5;28;43;01mFalse\u001b[39;49;00m\u001b[43m,\u001b[49m\n\u001b[0;32m   1275\u001b[0m \u001b[43m\u001b[49m\u001b[43m)\u001b[49m\n",
      "File \u001b[1;32m~\\AppData\\Roaming\\Python\\Python312\\site-packages\\ipykernel\\kernelbase.py:1313\u001b[0m, in \u001b[0;36mKernel._input_request\u001b[1;34m(self, prompt, ident, parent, password)\u001b[0m\n\u001b[0;32m   1310\u001b[0m \u001b[38;5;28;01mexcept\u001b[39;00m \u001b[38;5;167;01mKeyboardInterrupt\u001b[39;00m:\n\u001b[0;32m   1311\u001b[0m     \u001b[38;5;66;03m# re-raise KeyboardInterrupt, to truncate traceback\u001b[39;00m\n\u001b[0;32m   1312\u001b[0m     msg \u001b[38;5;241m=\u001b[39m \u001b[38;5;124m\"\u001b[39m\u001b[38;5;124mInterrupted by user\u001b[39m\u001b[38;5;124m\"\u001b[39m\n\u001b[1;32m-> 1313\u001b[0m     \u001b[38;5;28;01mraise\u001b[39;00m \u001b[38;5;167;01mKeyboardInterrupt\u001b[39;00m(msg) \u001b[38;5;28;01mfrom\u001b[39;00m \u001b[38;5;28;01mNone\u001b[39;00m\n\u001b[0;32m   1314\u001b[0m \u001b[38;5;28;01mexcept\u001b[39;00m \u001b[38;5;167;01mException\u001b[39;00m:\n\u001b[0;32m   1315\u001b[0m     \u001b[38;5;28mself\u001b[39m\u001b[38;5;241m.\u001b[39mlog\u001b[38;5;241m.\u001b[39mwarning(\u001b[38;5;124m\"\u001b[39m\u001b[38;5;124mInvalid Message:\u001b[39m\u001b[38;5;124m\"\u001b[39m, exc_info\u001b[38;5;241m=\u001b[39m\u001b[38;5;28;01mTrue\u001b[39;00m)\n",
      "\u001b[1;31mKeyboardInterrupt\u001b[0m: Interrupted by user"
     ]
    }
   ],
   "source": [
    "soma = 0 \n",
    "qtde = 0\n",
    "while True :\n",
    "    valor = float(input(\"Digite o valor do produto [-1 para encerrar]\"))\n",
    "    if valor == -1 :\n",
    "        break \n",
    "    soma = valor + soma \n",
    "    qtde = qtde + 1\n",
    "\n",
    "print(f\"valor total R$ {soma:.2f} Qtde produto {qtde}\")"
   ]
  },
  {
   "cell_type": "code",
   "execution_count": 1,
   "metadata": {},
   "outputs": [
    {
     "name": "stdout",
     "output_type": "stream",
     "text": [
      "=-=-=-=-=-=-=-=-=-=-=-=-=-=-=-=-=-=-=-=\n",
      "🤔 JOGO DA ADIVINHAÇÃO 🤔\n",
      "=-=-=-=-=-=-=-=-=-=-=-=-=-=-=-=-=-=-=-=\n",
      "Você chutou 9. Tente um número maior\n",
      "Você chutou 20. Tente um número menor\n",
      "Você chutou 6. Tente um número maior\n",
      "Você chutou 15. Tente um número maior\n",
      "Você chutou 18. Tente um número menor\n",
      "Você chutou 17. Tente um número menor\n",
      "Você chutou 16. Parabéns você acertou\n",
      "FIM\n"
     ]
    }
   ],
   "source": [
    "#Importando a biblioteca de números aleatórios\n",
    "import random\n",
    "#Sorteando um número de 1 a 100\n",
    "nrSorteado = random.randint(1, 100)\n",
    "\n",
    "print('=-=-=-=-=-=-=-=-=-=-=-=-=-=-=-=-=-=-=-=')\n",
    "print('🤔 JOGO DA ADIVINHAÇÃO 🤔')\n",
    "print('=-=-=-=-=-=-=-=-=-=-=-=-=-=-=-=-=-=-=-=')\n",
    "\n",
    "acertou = False\n",
    "while acertou == False :\n",
    "    chute = int(input(' 🕵️‍♀️Digite um número entre 1 e 100:'))\n",
    "    if chute == nrSorteado :\n",
    "        print (f'Você chutou {chute}. Parabéns você acertou')\n",
    "        acertou = True\n",
    "    elif chute > nrSorteado :\n",
    "        print (f'Você chutou {chute}. Tente um número menor')\n",
    "    else :\n",
    "        print (f'Você chutou {chute}. Tente um número maior')\n",
    "print ('FIM')"
   ]
  },
  {
   "cell_type": "markdown",
   "metadata": {},
   "source": [
    "22/03/2024 - For "
   ]
  },
  {
   "cell_type": "code",
   "execution_count": 3,
   "metadata": {},
   "outputs": [
    {
     "name": "stdout",
     "output_type": "stream",
     "text": [
      "0\n",
      "1\n",
      "2\n",
      "3\n",
      "4\n",
      "5\n",
      "6\n",
      "7\n",
      "8\n",
      "9\n",
      "10\n"
     ]
    }
   ],
   "source": [
    "for x in range(10) :\n",
    "    print(x)\n"
   ]
  },
  {
   "cell_type": "code",
   "execution_count": null,
   "metadata": {},
   "outputs": [],
   "source": [
    "print(\"Entregando os notebooks\")\n",
    "for nr in range (32) :\n",
    "    nr = nr + 1\n",
    "    nome = input(f\"Quem é o n° {nr}?\")\n",
    "    presente = input(f\"O(a) {nome} veio para escola? [S/N]\")\n",
    "    if presente == \"S\" :\n",
    "        print(f\"Pegar o notebook {nr}\")\n",
    "        print(f\"Pegar o mouse {nr}\")\n",
    "        print(f\"Levar o notebook até o(a) {nome}\")\n",
    "    else :\n",
    "        print(f\"Não pegar o notebook {nr}\")\n",
    "\n",
    "print(\"Começar a aula\")"
   ]
  },
  {
   "cell_type": "code",
   "execution_count": 10,
   "metadata": {},
   "outputs": [
    {
     "name": "stdout",
     "output_type": "stream",
     "text": [
      "5\n",
      "6\n",
      "7\n",
      "8\n",
      "9\n",
      "10\n",
      "11\n",
      "12\n",
      "13\n",
      "14\n",
      "15\n",
      "16\n",
      "17\n",
      "18\n",
      "19\n"
     ]
    }
   ],
   "source": [
    "for x in range (5, 20) :\n",
    "    print(x)"
   ]
  },
  {
   "cell_type": "code",
   "execution_count": 12,
   "metadata": {},
   "outputs": [
    {
     "name": "stdout",
     "output_type": "stream",
     "text": [
      "5\n",
      "9\n",
      "13\n",
      "17\n",
      "21\n",
      "25\n",
      "29\n"
     ]
    }
   ],
   "source": [
    "for x in range (5, 30, 4) :\n",
    "    print(x)  "
   ]
  },
  {
   "cell_type": "code",
   "execution_count": 14,
   "metadata": {},
   "outputs": [
    {
     "name": "stdout",
     "output_type": "stream",
     "text": [
      "5 x 0 = 0\n",
      "5 x 1 = 5\n",
      "5 x 2 = 10\n",
      "5 x 3 = 15\n",
      "5 x 4 = 20\n",
      "5 x 5 = 25\n",
      "5 x 6 = 30\n",
      "5 x 7 = 35\n",
      "5 x 8 = 40\n",
      "5 x 9 = 45\n",
      "5 x 10 = 50\n"
     ]
    }
   ],
   "source": [
    "n = int(input(\"Digite o nr\"))\n",
    "for x in range (11) :\n",
    "    print(f\"{n} x {x} = {n*x}\")"
   ]
  },
  {
   "cell_type": "code",
   "execution_count": null,
   "metadata": {},
   "outputs": [],
   "source": [
    "for letra in \"SESI/SENAI\" :\n",
    "    print(letra)\n",
    "print(\"FIM\")"
   ]
  },
  {
   "cell_type": "code",
   "execution_count": 15,
   "metadata": {},
   "outputs": [
    {
     "name": "stdout",
     "output_type": "stream",
     "text": [
      "0\n",
      "1\n",
      "2\n",
      "3\n",
      "4\n",
      "5\n",
      "6\n",
      "7\n",
      "8\n",
      "9\n"
     ]
    }
   ],
   "source": [
    "for x in range(100) :\n",
    "    if x == 10 :\n",
    "        break \n",
    "    print(x)"
   ]
  },
  {
   "cell_type": "markdown",
   "metadata": {},
   "source": [
    ">28/03/2024 - Variáveis Compostas - Vetores / Listas "
   ]
  },
  {
   "cell_type": "code",
   "execution_count": null,
   "metadata": {},
   "outputs": [],
   "source": [
    "fruta = [\"Maça\", \"Banana\", \"Abacaxi\", \"Uva\"]\n",
    "print(fruta) \n",
    "print(fruta[1])\n",
    "\n",
    "#Declaração de uma lista vazia \n",
    "lista_vazia = []\n",
    "\n",
    "#Declaração de uma lista de números \n",
    "numeros = [5, 8, 10, 3]\n",
    "\n",
    "#Declaração de uma lista de strings \n",
    "nomes = [\"Ana\", \"João\", \"Maria\"]\n",
    "\n",
    "#Declaração de uma lista mista \n",
    "lista_mista = [1, \"teste\", True, 3.5]"
   ]
  },
  {
   "cell_type": "code",
   "execution_count": null,
   "metadata": {},
   "outputs": [],
   "source": [
    "frutas = [\"maçã\", \"banana\", \"abacaxi\", \"uva\"]\n",
    "#Alterando o valor de um item da lista \n",
    "frutas[3] = \"melancia\"\n",
    "print(frutas)\n",
    "\n",
    "#incluindo um novo item no final na lista\n",
    "frutas.append(\"Laranja\")\n",
    "print(frutas)\n",
    "\n",
    "#incluindo um novo item em uma posição especifica \n",
    "frutas.insert(2, \"Morango\")\n",
    "print(frutas)\n",
    "\n",
    "#Excluindo item da lista \n",
    "#del frutas [3]\n",
    "#frutas.pop(3)\n",
    "frutas.remove(\"Abacaxi\")\n",
    "#Excluindo ultimo item da lista \n",
    "frutas.pop()\n",
    "print(frutas)\n"
   ]
  },
  {
   "cell_type": "code",
   "execution_count": null,
   "metadata": {},
   "outputs": [],
   "source": [
    "frutas = ['maçã', \"banana\", \"morango\", \"abacaxi\", \"melancia\", \"laranja\", \"uva\"]\n",
    "print(frutas[4]) #Posição especifica\n",
    "print(frutas[0:4]) #Da posição 0 pegar 4 itens \n",
    "print(frutas[1:]) #Da posição 1 até o último\n",
    "print(frutas[-1]) #Nr do itens do fim pro inicio \n",
    "print(len(frutas)) #Total de itens na lista \n",
    "\n",
    "\n",
    "frutas.sort() #Ordenando lista em ordem crescente \n",
    "print(frutas) \n",
    "frutas.reverse() #Ordenando lista em ordem decrecente \n",
    "print(frutas) "
   ]
  },
  {
   "cell_type": "markdown",
   "metadata": {},
   "source": [
    "Aula 04/04/2024 - Iteração em lista"
   ]
  },
  {
   "cell_type": "code",
   "execution_count": 6,
   "metadata": {},
   "outputs": [
    {
     "name": "stdout",
     "output_type": "stream",
     "text": [
      "b é uma consoante\n"
     ]
    }
   ],
   "source": [
    "#Criando uma lista de vogais \n",
    "vogais = [\"a\", \"e\", \"i\", \"o\", \"u\"]\n",
    "#Recebendo um caractere digitando pelo usuário \n",
    "letra = input(\"informe um caractere\")\n",
    "consoantes = [\"b\", \"c\", \"d\", \"f\", \"g\", \"h\", \"j\", \"k\", \"l\", \"m\", \"n\", \"p\", \"r\", \"s\", \"t\", \"v\", \"w\", \"x\", \"y\", \"z\"]\n",
    "# o método .lower() deixa todas as letras digitadas como minúscula \n",
    "# o método .upper() deixa todas as letras digitadas como maiúscula \n",
    "# lemos da seguinte forma: \n",
    "# SE a letra em MINUSCULA ESTIVER na lista de vogais ENTÃO\n",
    "if letra.lower() in vogais :\n",
    "    print(f\" {letra} é uma vogal\")\n",
    "elif letra.lower() in consoantes :\n",
    "    print(f\"{letra} é uma consoante\")\n",
    "else :\n",
    "    print(f\"{letra}Não é uma vogal\")\n"
   ]
  },
  {
   "cell_type": "code",
   "execution_count": 7,
   "metadata": {},
   "outputs": [
    {
     "name": "stdout",
     "output_type": "stream",
     "text": [
      "pelé\n",
      "maradona\n",
      "messi\n",
      "cristiano ronaldo\n"
     ]
    }
   ],
   "source": [
    "listaNomes = [\"pelé\", \"maradona\", \"messi\", \"cristiano ronaldo\"]\n",
    "for nome in listaNomes :\n",
    "    print(nome)"
   ]
  },
  {
   "cell_type": "code",
   "execution_count": 8,
   "metadata": {},
   "outputs": [
    {
     "name": "stdout",
     "output_type": "stream",
     "text": [
      "26\n",
      "26\n"
     ]
    }
   ],
   "source": [
    "listaNrs = [4,6,2,5,9]\n",
    "soma = 0 \n",
    "for nr in listaNrs :\n",
    "    soma = soma + nr\n",
    "print(soma) \n",
    "#Essa função que escrevemos faz a mesma coisa que \n",
    "soma = sum(listaNrs)\n",
    "print(soma) "
   ]
  },
  {
   "cell_type": "code",
   "execution_count": 9,
   "metadata": {},
   "outputs": [
    {
     "name": "stdout",
     "output_type": "stream",
     "text": [
      "A fruta maçã esta na posição 0\n",
      "A fruta banana esta na posição 1\n",
      "A fruta abacaxi esta na posição 2\n",
      "A fruta uva esta na posição 3\n"
     ]
    }
   ],
   "source": [
    "listaFrutas = [\"maçã\", \"banana\", \"abacaxi\", \"uva\"]\n",
    "for pos, fruta in enumerate(listaFrutas) :\n",
    "    print(f\"A fruta {fruta} esta na posição {pos}\")"
   ]
  },
  {
   "cell_type": "code",
   "execution_count": 10,
   "metadata": {},
   "outputs": [
    {
     "name": "stdout",
     "output_type": "stream",
     "text": [
      "Celular\n",
      "Notebook\n",
      "TV\n",
      "Tablet\n",
      "Headset\n"
     ]
    }
   ],
   "source": [
    "produtos = \"Celular,Notebook,TV,Tablet,Headset\"\n",
    "listaProdutos = produtos.split(\",\")\n",
    "for produto in listaProdutos :\n",
    "    print(produto)"
   ]
  },
  {
   "cell_type": "code",
   "execution_count": 11,
   "metadata": {},
   "outputs": [
    {
     "name": "stdout",
     "output_type": "stream",
     "text": [
      "S\n",
      "E\n",
      "N\n",
      "A\n",
      "I\n"
     ]
    }
   ],
   "source": [
    "palavra = \"SENAI\"\n",
    "for letra in palavra :\n",
    "    print(letra)\n",
    "    "
   ]
  },
  {
   "cell_type": "code",
   "execution_count": 1,
   "metadata": {},
   "outputs": [
    {
     "name": "stdout",
     "output_type": "stream",
     "text": [
      "1º Lasanha\n",
      "2º Strogonofe\n",
      "3º Pizza\n"
     ]
    }
   ],
   "source": [
    "#Criando uma lista vazia \n",
    "listaComidas = []\n",
    "#Laço de repetição sem um nr de execução definida\n",
    "while True :\n",
    "    #Recebendo informaçao do usuario e armazenando em uma variável \n",
    "    comida = input (\"Digite uma comida que voce mais gosta :\")\n",
    "    #Inserindo o valor da variável no final da nossa lista\n",
    "    listaComidas.append(comida)\n",
    "    #Obtendo a resposta do usuario se deseja continuar \n",
    "    resp = input(\"Deseja continuar? [S/N]\")\n",
    "    #Verificando condição da resposta dele, se for N ou n sair do laço\n",
    "    if resp in \"Nn\" :\n",
    "        #Parando o laço de repetição while\n",
    "        break \n",
    "\n",
    "# Fora do while - após finalizar sua executação e encontrar o break\n",
    "#Laço de repetição para exibir os itens e suas posições \n",
    "for pos, comida in enumerate(listaComidas) :\n",
    "    # Exibindo as variáveis de cada item da lista \n",
    "    print(f\"{pos+1}º {comida}\")    "
   ]
  },
  {
   "cell_type": "markdown",
   "metadata": {},
   "source": [
    "11/04/2024 - Funções"
   ]
  },
  {
   "cell_type": "code",
   "execution_count": 1,
   "metadata": {},
   "outputs": [
    {
     "name": "stdout",
     "output_type": "stream",
     "text": [
      "--------------------\n",
      "SESI / SENAI\n",
      "--------------------\n"
     ]
    }
   ],
   "source": [
    "print ( \"-\" * 20 )\n",
    "print(\"SESI / SENAI\")\n",
    "print( \"-\" * 20 )\n",
    "\n",
    "\n",
    "\n"
   ]
  },
  {
   "cell_type": "code",
   "execution_count": 4,
   "metadata": {},
   "outputs": [
    {
     "name": "stdout",
     "output_type": "stream",
     "text": [
      "--------------------\n",
      "SESI/SENAI\n",
      "--------------------\n",
      "--------------------\n",
      "--------------------\n",
      "--------------------\n",
      "--------------------\n"
     ]
    }
   ],
   "source": [
    "def Linha () :\n",
    "    print(\"-\" * 20)\n",
    "Linha()\n",
    "print( \"SESI/SENAI\" )    \n",
    "Linha()\n",
    "Linha()\n",
    "Linha()\n",
    "Linha()\n",
    "Linha()\n"
   ]
  },
  {
   "cell_type": "code",
   "execution_count": 7,
   "metadata": {},
   "outputs": [
    {
     "name": "stdout",
     "output_type": "stream",
     "text": [
      "--------------------\n",
      "SESI/SENAI\n",
      "--------------------\n",
      "--------------------\n",
      "SESI/SENAI\n",
      "--------------------\n",
      "--------------------\n",
      "SESI/SENAI\n",
      "--------------------\n"
     ]
    }
   ],
   "source": [
    "def Linha() :\n",
    "    print(\"-\" * 20)\n",
    "\n",
    "def cabecalho() :\n",
    "    print(\"-\" * 20)\n",
    "    print( \"SESI/SENAI\" )\n",
    "    print( \"-\" * 20)\n",
    "\n",
    "cabecalho()\n",
    "cabecalho()\n",
    "cabecalho()"
   ]
  },
  {
   "cell_type": "code",
   "execution_count": 10,
   "metadata": {},
   "outputs": [
    {
     "name": "stdout",
     "output_type": "stream",
     "text": [
      "Ola BURU tenha um bom dia\n",
      "Ola JUJU tenha um bom dia\n",
      "Ola JULINHA tenha um bom dia\n"
     ]
    }
   ],
   "source": [
    "def saudacao() :\n",
    "    frase = input (\"Digite seu nome\")\n",
    "    print(f\"Ola {frase} tenha um bom dia\")\n",
    "\n",
    "saudacao()\n",
    "saudacao()\n",
    "saudacao()"
   ]
  },
  {
   "cell_type": "code",
   "execution_count": null,
   "metadata": {},
   "outputs": [],
   "source": [
    "def cabecalho(texto) :\n",
    "    Linha()\n",
    "    print( texto )\n",
    "\n"
   ]
  },
  {
   "cell_type": "code",
   "execution_count": 12,
   "metadata": {},
   "outputs": [
    {
     "name": "stdout",
     "output_type": "stream",
     "text": [
      "A soma de 10 + 5 é 15\n",
      "A soma de 15681865 + 641458531 é 657140396\n",
      "A soma de 79 + 80 é 159\n"
     ]
    }
   ],
   "source": [
    "def soma (n1, n2) :\n",
    "    res = n1 + n2\n",
    "    print (f\"A soma de {n1} + {n2} é {res}\")\n",
    "\n",
    "soma(10, 5)\n",
    "soma(15681865, 641458531)\n",
    "soma(79, 80)\n"
   ]
  },
  {
   "cell_type": "code",
   "execution_count": 15,
   "metadata": {},
   "outputs": [
    {
     "name": "stdout",
     "output_type": "stream",
     "text": [
      "é par\n"
     ]
    }
   ],
   "source": [
    "def parinpar (n1) :\n",
    "    if n1  %  2  ==  0 :\n",
    "        print(\"é par\")\n",
    "    else :\n",
    "        print (\"é impar\")\n",
    "parinpar(int(input(\"Digite um numero\")))         "
   ]
  },
  {
   "cell_type": "code",
   "execution_count": 16,
   "metadata": {},
   "outputs": [
    {
     "data": {
      "text/plain": [
       "9.0"
      ]
     },
     "execution_count": 16,
     "metadata": {},
     "output_type": "execute_result"
    }
   ],
   "source": [
    "def media (n1, n2) :\n",
    "    res = (n1 + n2 ) / 2\n",
    "    return(res)\n",
    "\n",
    "#A variável resultado_media recebe o retorno da função nedia\n",
    "resultado_media = media (10, 8)\n",
    "print(resultado_media)\n",
    "print(media(10, 2))"
   ]
  },
  {
   "cell_type": "code",
   "execution_count": 20,
   "metadata": {},
   "outputs": [
    {
     "name": "stdout",
     "output_type": "stream",
     "text": [
      "25/12/1987\n",
      "27/2/1989\n"
     ]
    }
   ],
   "source": [
    "def FormatarData (d, m, a) :\n",
    "    data =  f\"{d}/{m}/{a}\"\n",
    "    return(data)\n",
    "print(FormatarData(25, 12, 1987))\n",
    "print(FormatarData(27, 2, 1989))"
   ]
  },
  {
   "cell_type": "markdown",
   "metadata": {},
   "source": [
    "12/04/2024 - Espoco de variáveis (variável local e global)"
   ]
  },
  {
   "cell_type": "code",
   "execution_count": 2,
   "metadata": {},
   "outputs": [
    {
     "name": "stdout",
     "output_type": "stream",
     "text": [
      "valor ANTES da função SENAI\n",
      "valor dentro da função SESI \n",
      "Valor DEPOIS da função SENAI\n"
     ]
    }
   ],
   "source": [
    "def NomeEscola() :\n",
    "    escola = \"SESI\"\n",
    "    print(f\"valor dentro da função {escola} \")\n",
    "\n",
    "escola = \"SENAI\"\n",
    "print(f\"valor ANTES da função {escola}\")\n",
    "NomeEscola()\n",
    "print(f\"Valor DEPOIS da função {escola}\")    \n"
   ]
  },
  {
   "cell_type": "code",
   "execution_count": null,
   "metadata": {},
   "outputs": [],
   "source": [
    "def NomeEscola() :\n",
    "    #Caso eu queira atualizar o conteúdo da variável escola\n",
    "    # Preciso escrever que ela é a global\n",
    "    global escola \n",
    "    escola = \"SESI\"  #Alterando o valor da variável global\n",
    "    print(f\"Valor dentro da função {escola}\")\n",
    "\n",
    "escola = \"SENAI\" \n",
    "print(f\"Valor ANTS da função {escola} \")\n",
    "NomeEscola()\n",
    "print(f\"Valor DEPOIS da função {escola}\")   "
   ]
  },
  {
   "cell_type": "code",
   "execution_count": null,
   "metadata": {},
   "outputs": [],
   "source": [
    "x = 10 # x é uma variável global\n",
    "# Podemos acessar x fora de uma função também\n",
    "print(\"fora da função\", x)\n",
    "\n",
    "def minhafuncao () :\n",
    "    ''''\n",
    "        Aqui posso escrever a descrição do que faz a minha função \n",
    "    '''\n",
    "    global x #Dizendo que usaremos a variável x global\n",
    "    x = x + 1 \n",
    "    print(\"Dentro da função\", x)\n",
    "\n",
    "minhafuncao()\n",
    "print(\"fora fa função\", x)"
   ]
  }
 ],
 "metadata": {
  "kernelspec": {
   "display_name": "Python 3",
   "language": "python",
   "name": "python3"
  },
  "language_info": {
   "codemirror_mode": {
    "name": "ipython",
    "version": 3
   },
   "file_extension": ".py",
   "mimetype": "text/x-python",
   "name": "python",
   "nbconvert_exporter": "python",
   "pygments_lexer": "ipython3",
   "version": "3.12.2"
  }
 },
 "nbformat": 4,
 "nbformat_minor": 2
}
